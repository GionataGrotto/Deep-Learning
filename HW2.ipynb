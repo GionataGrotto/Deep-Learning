{
  "cells": [
    {
      "cell_type": "markdown",
      "metadata": {
        "id": "raUKrVPW0SO1"
      },
      "source": [
        "#**Deep Learning Homework 2: *Optimize and Train Deep Models***\n",
        "### MSc Computer Science, Data Science, Cybersecurity @UniPD\n",
        "### 2nd semester - 6 ECTS\n",
        "### Prof. Nicolò Navarin & Prof. Alessandro Sperduti\n",
        "---"
      ]
    },
    {
      "cell_type": "markdown",
      "metadata": {
        "id": "QUc9frYnVBI_"
      },
      "source": [
        "In this homework, we will explore how to develop a simple Deep Neural Network for a classification problem. We will explore two common libraries: TensorFlow and Keras.\n",
        "Then we will explore how to face a well known problem that is common to encounter during the training phase: the Overfitting.\n",
        "Finally, we will study how to perform a fair model selection.\n",
        "Hint: Before starting the exercise take a look at how Tensorflow and Keras are designed.  https://keras.io/"
      ]
    },
    {
      "cell_type": "markdown",
      "metadata": {
        "id": "e-Nc7mFSVEiU"
      },
      "source": [
        "##Exercise 2.1: Text Classficiation with Tensorflow and Keras\n",
        "\n",
        "In this first exercise we will develop a 3 layers Neural Network to perfrom classification.\n",
        "\n",
        "Let's start importing the libraries we will need and setting a couple of environmental variables.\n"
      ]
    },
    {
      "cell_type": "code",
      "execution_count": null,
      "metadata": {
        "id": "bWn9FzneVqJo"
      },
      "outputs": [],
      "source": [
        "import matplotlib as mpl\n",
        "import matplotlib.pyplot as plt\n",
        "import numpy as np\n",
        "import os\n",
        "import pandas as pd\n",
        "import sklearn\n",
        "import sys\n",
        "import tensorflow as tf\n",
        "from tensorflow import keras  # tf.keras\n",
        "import tensorflow_datasets as tfds\n",
        "import time\n",
        "\n",
        "import logging\n",
        "logging.disable(logging.WARNING)\n",
        "os.environ[\"TF_CPP_MIN_LOG_LEVEL\"] = \"3\" \n",
        "\n",
        "tf.random.set_seed(42)\n",
        "# os.environ['TF_DETERMINISTIC_OPS']='1'"
      ]
    },
    {
      "cell_type": "markdown",
      "metadata": {
        "id": "LT2HMYDEXcx0"
      },
      "source": [
        "### Load Data: AG News Subset\n",
        "\n",
        "In this HW, we use the AG News Subset that is available in Tensorflow Dataset. The AG's news topic classification dataset is constructed by choosing the 4 largest topic classes from a larger news corups. The total number of training samples is 120,000 and testing 7,600. Each class contains 30,000 training samples and 1,900 testing samples. Each sample contains both the title and an excerpt of the article, but in this exercise we will use only the excerpt as input.\n",
        "\n",
        "We will split the training set into two 90%-10% splits in order to have a validation set."
      ]
    },
    {
      "cell_type": "code",
      "execution_count": null,
      "metadata": {
        "id": "d8xZASzs26zD",
        "colab": {
          "base_uri": "https://localhost:8080/",
          "height": 299,
          "referenced_widgets": [
            "c270cefcb6b642e39143d9b0b60f0aca",
            "c836f0690a56461a98e28784f543d004",
            "dd78899fec0146fa9646faa288731970",
            "b3b1a19950aa4090829e2254e26fd201",
            "1af2ae998107431b815154c1285b085d",
            "5192bd6d94d6428ab542e61e22479d5b",
            "b1dafb3e061b45b8bc88c5332a8b8569",
            "b83c319b6ca5447280c1ad543d30cb17",
            "b0eccfbcb3cb4ae28ac6869139af6975",
            "9decbebe589b4c6ba8ed8ec40152ce3c",
            "6a61bec558544462a70d7a9eb1100b95",
            "4bcde9d4867548539bca1c079bb35a31",
            "cf78f27c19824add9914626c281afd1f",
            "34d87bd981bf49c2a510e311ee55aeb1",
            "84f3463d314346748f48820fda4a08df",
            "95ad538a371a4a019cba497da08cd7c2",
            "860c6db9f79342708a8ae2feef667cbc",
            "44414b6f6a3c4e1eae6df1ead7b082a3",
            "23107272366743a1a16246afbe66a7c1",
            "64296768fab24d5281baedccd61abc4f",
            "456d06f084204a9ebb470e6732352f4d",
            "a6b54377a10849c3a784f5512a027081",
            "0d6ea9d0cd8340ba9cee99bdf79f4bf6",
            "266d820a13fa4f3d9b9a47db721d199c",
            "ade5210463d845e08b5273e4803befe6",
            "f9cbad72fd4947f184a417207f871302",
            "33a514a48cb24b8e95613f44269d7162",
            "4e7d69ef9e494b028edd462f2b10d487",
            "7589817459114ff8a6e9fc5b08d08537",
            "b9d553b285da4b20bbb3b5d11b120b9d",
            "62a48af2c21e4080b5218cfdd8930707",
            "d927d3861e0747989abd9545c426d79b",
            "9ea3eaf5216444f5baed77973a1cc604",
            "0aee05c7f45e47669c17be86b96f22cf",
            "e6ad828101ef4b5eba61fa5dd7384241",
            "fa280c88f5764f95afc583661b9de0a1",
            "348b07cc5c904cf6bfb2ccb73e17d00b",
            "fde4efdb877341f8b46181b1e388c841",
            "806f89d7500840c69a94e4aafd26d7ff",
            "87bc091bdfa04e74b7ac0c5a90c77599",
            "ddc6d7d86faf43378ba44af38b393476",
            "b2c9e000af16443498d187cd08e4f388",
            "3c43daec3f1648039b0b6ae27d22bc59",
            "e7b1b77050ae48c79487855804b83d6d",
            "b64a2d7adc1644fbb8f47b36b4bbdac9",
            "3332f76e8ec84a11a7d6a6df2505cbfe",
            "876aaa315ecd432a89fafcf39d66dac9",
            "b1dcc38f4464486ca6763d9c30530fcd",
            "3ca1e318b3dc43b3b1b749e12f84919a",
            "269757cd5b794cceabeb79f219f442f1",
            "e9b74b2a5d1d48a6bbf8e1a76989f50f",
            "618e59b3171343469ab44fd0e8c6f0b4",
            "63b4f6e21bfd4c4ab9dedbaf2ae381e8",
            "f3713b2ab7114bbd94de7dc976db54e8",
            "e8594655fae148a5954c971497091805",
            "0f6b94709d6e4adcb44e290d5cbbb466",
            "58303aef8563487ba979f1bb40f69753",
            "7e0c97b280bf4305b0bc0bc1dd33f398",
            "720ba3e265a04975ab223255482a9d4e",
            "1469c63730de44b68d3077b9c0f4e2ea",
            "cfc2711db2e2453393877f3fdc49fa99",
            "da9fef6dfd2046888ef2923184c9283a",
            "fc470cc9306a4d33a6800faee6e5a27b",
            "31bf4c02959b4a7fad095d6e75e71a74",
            "4a87094976284383abd0074ea1a71a4d",
            "f925794e9d9b419cbab91ea8cc43a825",
            "1df2031c73eb4dfcb94f83d4e3f7e2b7",
            "7fa6c1f7a90e4524934b7587fa89cf17",
            "2d80926867544452ad09e78a0ad5d616",
            "65ab97ddc72f4c36a43f44a6c8e3ab36",
            "777bbb8838354fc1a325d2dc2a28bf5b",
            "ad0d826bc9e34f0996bc9de3016b6e12",
            "3672fa280e8d4acfa15e9d88fb67cea4",
            "d29fcf0b364d49ca8c4ac9950fecd4b0",
            "34ab8f37654a49319cd095630a108742",
            "257a687e1aad400486e5b3748f438601",
            "a84543d6d2254d8c9514a41a7c57c913"
          ]
        },
        "outputId": "599436b7-6f59-4b42-a907-ec3894693a7a"
      },
      "outputs": [
        {
          "output_type": "stream",
          "name": "stdout",
          "text": [
            "\u001b[1mDownloading and preparing dataset ag_news_subset/1.0.0 (download: 11.24 MiB, generated: 35.79 MiB, total: 47.03 MiB) to /root/tensorflow_datasets/ag_news_subset/1.0.0...\u001b[0m\n"
          ]
        },
        {
          "output_type": "display_data",
          "data": {
            "text/plain": [
              "Dl Completed...: 0 url [00:00, ? url/s]"
            ],
            "application/vnd.jupyter.widget-view+json": {
              "version_major": 2,
              "version_minor": 0,
              "model_id": "c270cefcb6b642e39143d9b0b60f0aca"
            }
          },
          "metadata": {}
        },
        {
          "output_type": "display_data",
          "data": {
            "text/plain": [
              "Dl Size...: 0 MiB [00:00, ? MiB/s]"
            ],
            "application/vnd.jupyter.widget-view+json": {
              "version_major": 2,
              "version_minor": 0,
              "model_id": "4bcde9d4867548539bca1c079bb35a31"
            }
          },
          "metadata": {}
        },
        {
          "output_type": "display_data",
          "data": {
            "text/plain": [
              "Extraction completed...: 0 file [00:00, ? file/s]"
            ],
            "application/vnd.jupyter.widget-view+json": {
              "version_major": 2,
              "version_minor": 0,
              "model_id": "0d6ea9d0cd8340ba9cee99bdf79f4bf6"
            }
          },
          "metadata": {}
        },
        {
          "output_type": "stream",
          "name": "stdout",
          "text": [
            "\n",
            "\n",
            "\n"
          ]
        },
        {
          "output_type": "display_data",
          "data": {
            "text/plain": [
              "0 examples [00:00, ? examples/s]"
            ],
            "application/vnd.jupyter.widget-view+json": {
              "version_major": 2,
              "version_minor": 0,
              "model_id": "0aee05c7f45e47669c17be86b96f22cf"
            }
          },
          "metadata": {}
        },
        {
          "output_type": "stream",
          "name": "stdout",
          "text": [
            "Shuffling and writing examples to /root/tensorflow_datasets/ag_news_subset/1.0.0.incompleteUQUESN/ag_news_subset-train.tfrecord\n"
          ]
        },
        {
          "output_type": "display_data",
          "data": {
            "text/plain": [
              "  0%|          | 0/120000 [00:00<?, ? examples/s]"
            ],
            "application/vnd.jupyter.widget-view+json": {
              "version_major": 2,
              "version_minor": 0,
              "model_id": "b64a2d7adc1644fbb8f47b36b4bbdac9"
            }
          },
          "metadata": {}
        },
        {
          "output_type": "display_data",
          "data": {
            "text/plain": [
              "0 examples [00:00, ? examples/s]"
            ],
            "application/vnd.jupyter.widget-view+json": {
              "version_major": 2,
              "version_minor": 0,
              "model_id": "0f6b94709d6e4adcb44e290d5cbbb466"
            }
          },
          "metadata": {}
        },
        {
          "output_type": "stream",
          "name": "stdout",
          "text": [
            "Shuffling and writing examples to /root/tensorflow_datasets/ag_news_subset/1.0.0.incompleteUQUESN/ag_news_subset-test.tfrecord\n"
          ]
        },
        {
          "output_type": "display_data",
          "data": {
            "text/plain": [
              "  0%|          | 0/7600 [00:00<?, ? examples/s]"
            ],
            "application/vnd.jupyter.widget-view+json": {
              "version_major": 2,
              "version_minor": 0,
              "model_id": "1df2031c73eb4dfcb94f83d4e3f7e2b7"
            }
          },
          "metadata": {}
        },
        {
          "output_type": "stream",
          "name": "stdout",
          "text": [
            "\u001b[1mDataset ag_news_subset downloaded and prepared to /root/tensorflow_datasets/ag_news_subset/1.0.0. Subsequent calls will reuse this data.\u001b[0m\n"
          ]
        }
      ],
      "source": [
        "### NOTE ### \n",
        "# running this cell might yield download-related errors.\n",
        "# just repeating the execution a couple of times should solve the error.\n",
        "\n",
        "train_ds, valid_ds, test_ds = tfds.load('ag_news_subset',\n",
        "                                        as_supervised=True, # return a set of (text, label) tuples \n",
        "                                        split=['train[:90%]', 'train[-10%:]', 'test'],\n",
        "                                        batch_size=-1)  \n",
        "                                        # ^ using batch_size=-1 returns Tensors instead of Dataset objects"
      ]
    },
    {
      "cell_type": "code",
      "execution_count": null,
      "metadata": {
        "id": "BYkXCTv3NrvC"
      },
      "outputs": [],
      "source": [
        "# Tensors have two elements, data and labels; let's split them\n",
        "# so we can transform the data\n",
        "X_train, y_train = train_ds\n",
        "X_valid, y_valid = valid_ds\n",
        "X_test, y_test = test_ds"
      ]
    },
    {
      "cell_type": "markdown",
      "metadata": {
        "id": "8prUBtqq8JW7"
      },
      "source": [
        "The AG News Subset dataset consists in news articles, each one composed by a sequence of words. In order to encode each article in a single tensor with a fixed number of elements, we will use multi-hot encoding. For testing purposes, we will only consider the first 10,000  most common words. Multi-hot-encoding our lists means turning them into vectors of 0s and 1s. Concretely, this would mean for instance turning the sequence [3, 5] into a 10,000-dimensional vector that would be all-zeros except for indices 3 and 5, which would be ones. The obtained input representation indicates which words are present (at least one time) in the sentence."
      ]
    },
    {
      "cell_type": "code",
      "execution_count": null,
      "metadata": {
        "id": "Brt087tDIDpe"
      },
      "outputs": [],
      "source": [
        "num_words = 1000\n",
        "vectorize_layer = tf.keras.layers.TextVectorization(\n",
        " max_tokens=num_words,\n",
        " standardize=\"lower_and_strip_punctuation\",\n",
        " split=\"whitespace\",\n",
        " output_mode='multi_hot',\n",
        " pad_to_max_tokens=True)\n",
        "\n",
        "vectorize_layer.adapt(X_train)"
      ]
    },
    {
      "cell_type": "code",
      "execution_count": null,
      "metadata": {
        "id": "seuFLH2lNiDT"
      },
      "outputs": [],
      "source": [
        "X_train = vectorize_layer(X_train)\n",
        "X_valid = vectorize_layer(X_valid)\n",
        "X_test  = vectorize_layer(X_test)"
      ]
    },
    {
      "cell_type": "markdown",
      "metadata": {
        "id": "jGUg8TexZMNf"
      },
      "source": [
        "### Define the model:\n",
        "\n",
        "Let's build a Sequential model (`keras.models.Sequential`) and add four layers to it by calling its `add()` method:\n",
        "\n",
        "\n",
        "*   a input layer (`tf.keras.Input`) that is the first layer in your model. With this layer you should specify the `input_shape` argument, leaving out the batch size: `(num_words,)`;\n",
        "*  a Dense layer (`keras.layers.Dense`) with 16 neurons, and the \"relu\" activation function;\n",
        "* another Dense layer with 16 neurons, also with the \"relu\" activation function;\n",
        "* a final Dense layer with 4 output neurons, and with the \"softmax\" activation (since we considering a classification task with four classes)."
      ]
    },
    {
      "cell_type": "code",
      "execution_count": null,
      "metadata": {
        "id": "OaoEISyaZL56"
      },
      "outputs": [],
      "source": [
        "model = keras.models.Sequential()\n",
        "model.add(tf.keras.Input(shape=(num_words,)))\n",
        "model.add(keras.layers.Dense(16, activation=\"relu\"))\n",
        "model.add(keras.layers.Dense(16, activation=\"relu\"))\n",
        "model.add(keras.layers.Dense(4, activation=\"softmax\"))"
      ]
    },
    {
      "cell_type": "markdown",
      "metadata": {
        "id": "fYfxUOQVZljh"
      },
      "source": [
        "Call the model's `summary()` method to check if the model has been built correctly. Also, try using `keras.utils.plot_model()` to save an image of your model's architecture."
      ]
    },
    {
      "cell_type": "code",
      "execution_count": null,
      "metadata": {
        "id": "IpGkQl5dZoWq",
        "colab": {
          "base_uri": "https://localhost:8080/"
        },
        "outputId": "9a27d05a-e3f2-42ae-c177-2f22379f4017"
      },
      "outputs": [
        {
          "output_type": "stream",
          "name": "stdout",
          "text": [
            "Model: \"sequential\"\n",
            "_________________________________________________________________\n",
            " Layer (type)                Output Shape              Param #   \n",
            "=================================================================\n",
            " dense (Dense)               (None, 16)                16016     \n",
            "                                                                 \n",
            " dense_1 (Dense)             (None, 16)                272       \n",
            "                                                                 \n",
            " dense_2 (Dense)             (None, 4)                 68        \n",
            "                                                                 \n",
            "=================================================================\n",
            "Total params: 16,356\n",
            "Trainable params: 16,356\n",
            "Non-trainable params: 0\n",
            "_________________________________________________________________\n"
          ]
        }
      ],
      "source": [
        "model.summary()"
      ]
    },
    {
      "cell_type": "code",
      "execution_count": null,
      "metadata": {
        "id": "b1NbkrXRZwOA",
        "colab": {
          "base_uri": "https://localhost:8080/",
          "height": 422
        },
        "outputId": "83e2851e-aa64-4711-9ed8-fc0f39dbb175"
      },
      "outputs": [
        {
          "output_type": "execute_result",
          "data": {
            "text/plain": [
              "<IPython.core.display.Image object>"
            ],
            "image/png": "[encoded data removed]"
          },
          "metadata": {},
          "execution_count": 9
        }
      ],
      "source": [
        "keras.utils.plot_model(model, \"my_model.png\", show_shapes=True)"
      ]
    },
    {
      "cell_type": "markdown",
      "metadata": {
        "id": "Mc3xzuA-33WH"
      },
      "source": [
        "As you can see, the first dimension of each layer is not defined (`None`), indeed this dimension in each layer is variable and depends on the batch size."
      ]
    },
    {
      "cell_type": "markdown",
      "metadata": {
        "id": "6FAjFixuHSA_"
      },
      "source": [
        "Instaed of using `add()` method it is also possibile to define the model using the following syntax"
      ]
    },
    {
      "cell_type": "code",
      "execution_count": null,
      "metadata": {
        "id": "yOhr57M9GPHy",
        "colab": {
          "base_uri": "https://localhost:8080/",
          "height": 683
        },
        "outputId": "ddc16f57-a94f-40de-9a8c-b2ac438d9b6b"
      },
      "outputs": [
        {
          "output_type": "stream",
          "name": "stdout",
          "text": [
            "Model: \"sequential_1\"\n",
            "_________________________________________________________________\n",
            " Layer (type)                Output Shape              Param #   \n",
            "=================================================================\n",
            " dense_3 (Dense)             (None, 16)                16016     \n",
            "                                                                 \n",
            " dense_4 (Dense)             (None, 16)                272       \n",
            "                                                                 \n",
            " dense_5 (Dense)             (None, 4)                 68        \n",
            "                                                                 \n",
            "=================================================================\n",
            "Total params: 16,356\n",
            "Trainable params: 16,356\n",
            "Non-trainable params: 0\n",
            "_________________________________________________________________\n"
          ]
        },
        {
          "output_type": "execute_result",
          "data": {
            "text/plain": [
              "<IPython.core.display.Image object>"
            ],
            "image/png": "[encoded data removed]"
          },
          "metadata": {},
          "execution_count": 10
        }
      ],
      "source": [
        "model = keras.models.Sequential([\n",
        "    tf.keras.Input(shape=(num_words,)),\n",
        "    keras.layers.Dense(16, activation=\"relu\"),\n",
        "    keras.layers.Dense(16, activation=\"relu\"),\n",
        "    keras.layers.Dense(4, activation=\"softmax\")\n",
        "])\n",
        "model.summary()\n",
        "keras.utils.plot_model(model, \"my_model.png\", show_shapes=True)"
      ]
    },
    {
      "cell_type": "markdown",
      "metadata": {
        "id": "2ySdJmzxaSuz"
      },
      "source": [
        "### Optimize the model:\n",
        "\n",
        "After the model has been created, you must call its `compile()` method to specify the loss function and the optimizer to use.\n",
        "\n",
        "Since the model performs a classification task, and we have labels encoded as integers, we use the sparse categorical cross-entropy loss. As optimizer we use Adam.\n",
        "\n",
        "Moreover, you can optionally specify a list of additional metrics that should be measured during training. In this case we specify `metrics=[\"accuracy\"]`."
      ]
    },
    {
      "cell_type": "code",
      "execution_count": null,
      "metadata": {
        "id": "x3bbsY3uaeh5"
      },
      "outputs": [],
      "source": [
        "model.compile(loss=\"sparse_categorical_crossentropy\",\n",
        "              optimizer=keras.optimizers.Adam(learning_rate=1e-4),\n",
        "              metrics=[\"accuracy\"])"
      ]
    },
    {
      "cell_type": "markdown",
      "metadata": {
        "id": "NB9SV0MpaeTg"
      },
      "source": [
        "Now our model is ready to be trained. Call its `fit()` method, passing to it the input features (`X_train`) and the target classes (`y_train`). Set the number of epochs to 20. \n",
        "In order to validate our model we will also pass the validation data by setting `validation_data=(X_valid, y_valid)`. Keras will compute the loss and the additional metrics (the accuracy in this case) on the validation set at the end of each epoch. If the loss on the training set is much lower than the one on the validation set, your model is probably overfitting the training set. Note: the `fit()` method will return a `History` object containing training stats."
      ]
    },
    {
      "cell_type": "code",
      "execution_count": null,
      "metadata": {
        "id": "5whx-LU3aoKn",
        "colab": {
          "base_uri": "https://localhost:8080/"
        },
        "outputId": "400ce744-a78b-4ba0-f914-21ea8e5af671"
      },
      "outputs": [
        {
          "output_type": "stream",
          "name": "stdout",
          "text": [
            "Epoch 1/20\n",
            "3375/3375 [==============================] - 7s 2ms/step - loss: 0.8503 - accuracy: 0.6761 - val_loss: 0.5107 - val_accuracy: 0.8314\n",
            "Epoch 2/20\n",
            "3375/3375 [==============================] - 7s 2ms/step - loss: 0.4583 - accuracy: 0.8449 - val_loss: 0.4452 - val_accuracy: 0.8475\n",
            "Epoch 3/20\n",
            "3375/3375 [==============================] - 9s 3ms/step - loss: 0.4222 - accuracy: 0.8546 - val_loss: 0.4318 - val_accuracy: 0.8507\n",
            "Epoch 4/20\n",
            "3375/3375 [==============================] - 7s 2ms/step - loss: 0.4089 - accuracy: 0.8573 - val_loss: 0.4241 - val_accuracy: 0.8509\n",
            "Epoch 5/20\n",
            "3375/3375 [==============================] - 6s 2ms/step - loss: 0.4012 - accuracy: 0.8590 - val_loss: 0.4210 - val_accuracy: 0.8525\n",
            "Epoch 6/20\n",
            "3375/3375 [==============================] - 7s 2ms/step - loss: 0.3959 - accuracy: 0.8601 - val_loss: 0.4175 - val_accuracy: 0.8531\n",
            "Epoch 7/20\n",
            "3375/3375 [==============================] - 7s 2ms/step - loss: 0.3917 - accuracy: 0.8615 - val_loss: 0.4149 - val_accuracy: 0.8535\n",
            "Epoch 8/20\n",
            "3375/3375 [==============================] - 7s 2ms/step - loss: 0.3882 - accuracy: 0.8617 - val_loss: 0.4132 - val_accuracy: 0.8550\n",
            "Epoch 9/20\n",
            "3375/3375 [==============================] - 7s 2ms/step - loss: 0.3851 - accuracy: 0.8627 - val_loss: 0.4109 - val_accuracy: 0.8540\n",
            "Epoch 10/20\n",
            "3375/3375 [==============================] - 7s 2ms/step - loss: 0.3825 - accuracy: 0.8629 - val_loss: 0.4096 - val_accuracy: 0.8534\n",
            "Epoch 11/20\n",
            "3375/3375 [==============================] - 7s 2ms/step - loss: 0.3799 - accuracy: 0.8637 - val_loss: 0.4081 - val_accuracy: 0.8539\n",
            "Epoch 12/20\n",
            "3375/3375 [==============================] - 6s 2ms/step - loss: 0.3775 - accuracy: 0.8638 - val_loss: 0.4064 - val_accuracy: 0.8543\n",
            "Epoch 13/20\n",
            "3375/3375 [==============================] - 7s 2ms/step - loss: 0.3753 - accuracy: 0.8645 - val_loss: 0.4051 - val_accuracy: 0.8538\n",
            "Epoch 14/20\n",
            "3375/3375 [==============================] - 6s 2ms/step - loss: 0.3731 - accuracy: 0.8649 - val_loss: 0.4053 - val_accuracy: 0.8543\n",
            "Epoch 15/20\n",
            "3375/3375 [==============================] - 7s 2ms/step - loss: 0.3709 - accuracy: 0.8660 - val_loss: 0.4035 - val_accuracy: 0.8553\n",
            "Epoch 16/20\n",
            "3375/3375 [==============================] - 7s 2ms/step - loss: 0.3689 - accuracy: 0.8661 - val_loss: 0.4027 - val_accuracy: 0.8553\n",
            "Epoch 17/20\n",
            "3375/3375 [==============================] - 7s 2ms/step - loss: 0.3669 - accuracy: 0.8668 - val_loss: 0.4011 - val_accuracy: 0.8565\n",
            "Epoch 18/20\n",
            "3375/3375 [==============================] - 7s 2ms/step - loss: 0.3649 - accuracy: 0.8672 - val_loss: 0.4003 - val_accuracy: 0.8554\n",
            "Epoch 19/20\n",
            "3375/3375 [==============================] - 6s 2ms/step - loss: 0.3630 - accuracy: 0.8679 - val_loss: 0.3992 - val_accuracy: 0.8559\n",
            "Epoch 20/20\n",
            "3375/3375 [==============================] - 6s 2ms/step - loss: 0.3612 - accuracy: 0.8684 - val_loss: 0.3993 - val_accuracy: 0.8564\n"
          ]
        }
      ],
      "source": [
        "history = model.fit(X_train, y_train, epochs=20,\n",
        "                    validation_data=(X_valid, y_valid))"
      ]
    },
    {
      "cell_type": "markdown",
      "metadata": {
        "id": "EPxiw8iCADr-"
      },
      "source": [
        "Let's plot the loss and the accuracy trends on both training and validation sets. We define the `plot_learning_acc_and_loss` function because we will reuse it in the next steps."
      ]
    },
    {
      "cell_type": "code",
      "execution_count": null,
      "metadata": {
        "id": "AJg-F7mUa7st",
        "colab": {
          "base_uri": "https://localhost:8080/",
          "height": 320
        },
        "outputId": "c60eb873-29c3-475c-a411-139a5cb48d77"
      },
      "outputs": [
        {
          "output_type": "display_data",
          "data": {
            "text/plain": [
              "<Figure size 576x360 with 1 Axes>"
            ],
            "image/png": "[encoded data removed]"
          },
          "metadata": {
            "needs_background": "light"
          }
        }
      ],
      "source": [
        "def plot_learning_acc_and_loss(history):\n",
        "    pd.DataFrame(history.history).plot(figsize=(8, 5))\n",
        "    plt.grid(True)\n",
        "    plt.show()\n",
        "plot_learning_acc_and_loss(history)"
      ]
    },
    {
      "cell_type": "markdown",
      "metadata": {
        "id": "9O3-sLmxansJ"
      },
      "source": [
        "### [TO COMPLETE] Evaluate the model:\n",
        "\n",
        "Now, our model has been optimized on the training set, and as you can see the performance on the validation set in quite similar (so it does not overfit the training data). Let's now evaluate the performance of our model using the test set."
      ]
    },
    {
      "cell_type": "code",
      "execution_count": null,
      "metadata": {
        "id": "q-ZvJEcObdyB",
        "colab": {
          "base_uri": "https://localhost:8080/"
        },
        "outputId": "6c861e5e-6091-4993-df8c-8b6f0c2a4bcf"
      },
      "outputs": [
        {
          "output_type": "stream",
          "name": "stdout",
          "text": [
            "238/238 [==============================] - 1s 2ms/step - loss: 0.4093 - accuracy: 0.8521\n"
          ]
        },
        {
          "output_type": "execute_result",
          "data": {
            "text/plain": [
              "[0.40926671028137207, 0.8521052598953247]"
            ]
          },
          "metadata": {},
          "execution_count": 14
        }
      ],
      "source": [
        "model.evaluate(X_test, y_test)"
      ]
    },
    {
      "cell_type": "markdown",
      "metadata": {
        "id": "KTSxlnwrII-n"
      },
      "source": [
        "[TO COMPLETE] Explain why it is important to use test and validation, and why it is important to evaluate the model on the test set instead of the validation set. Finally, explain what is the usefulness of the validation set. Insert the discussion in this cell."
      ]
    },
    {
      "cell_type": "markdown",
      "source": [
        "When we want to build a machine learning model we must \n",
        "\n",
        "The validation set is composed of elements not used during the training operation. The validation set is important because is a set of data useful to evaluate the model in order to understand if the training is processing correctly and if the model used is the best model for the current task looking at the accuracy and the loss at each epoch. The validation set is useful to model selection and hyper-parameter tuning.\n",
        "\n",
        "The test set is composed of new fresh data not used during in the train and validation set. The test set is used at the end of the training process to evaluate the performance of the model.\n",
        "\n",
        "It's important to evaluate the model with the test set because it will produce a more correct result in general. That because the model is trained over the training set and it is possible that the model overfit because it learn too much from it and doesn't generalize the problem. So evaluating the model over the training set could lead to a fake high accuracy. Instead the validation set is generally smaller that the test set so the result over the validation could be worse than the training. Furthermore it's possible that once that the best model is found the fit is done over the training and the validation set so evaluating over tha validation could lead to misleading results."
      ],
      "metadata": {
        "id": "cHCM2C83-EXL"
      }
    },
    {
      "cell_type": "markdown",
      "metadata": {
        "id": "aeGlzKe864Gq"
      },
      "source": [
        "## [TO COMPLETE] Exercise 2.2: Overfiting\n",
        "\n",
        "A common problem that occurs when you train a deep neural network is overfittig. Overfitting occurs when you achieve a good fit of your model on the training data, while it does not generalize well on new, unseen data. In other words, the model learned patterns specific to the training data, which are irrelevant in other data.\n",
        "As we have seen in the previous exercise, our model does not overfit the training data. In this exercise, we try to modify the training parameters in order to have a model that overfits.\n",
        "Overfitting can have many causes and usually is a combination of some of them, for instance: too many parameters/ layers, too few training samples, wrong learning rate (usualy too high), etc..\n",
        "\n",
        "[TO COMPLETE] In the next cell define a new model (similar to the previuos one) that overfits the training data; then plot the trend of the loss in training and validation set."
      ]
    },
    {
      "cell_type": "code",
      "execution_count": null,
      "metadata": {
        "id": "T2B2DFEC8f88",
        "colab": {
          "base_uri": "https://localhost:8080/"
        },
        "outputId": "b6303b1f-83c4-4190-ad6a-784c9b77074a"
      },
      "outputs": [
        {
          "output_type": "stream",
          "name": "stdout",
          "text": [
            "Epoch 1/25\n",
            "3375/3375 [==============================] - 10s 3ms/step - loss: 0.4686 - accuracy: 0.8308 - val_loss: 0.4352 - val_accuracy: 0.8457\n",
            "Epoch 2/25\n",
            "3375/3375 [==============================] - 9s 3ms/step - loss: 0.3909 - accuracy: 0.8602 - val_loss: 0.4210 - val_accuracy: 0.8482\n",
            "Epoch 3/25\n",
            "3375/3375 [==============================] - 10s 3ms/step - loss: 0.3411 - accuracy: 0.8779 - val_loss: 0.4202 - val_accuracy: 0.8555\n",
            "Epoch 4/25\n",
            "3375/3375 [==============================] - 9s 3ms/step - loss: 0.2929 - accuracy: 0.8940 - val_loss: 0.4315 - val_accuracy: 0.8493\n",
            "Epoch 5/25\n",
            "3375/3375 [==============================] - 9s 3ms/step - loss: 0.2548 - accuracy: 0.9088 - val_loss: 0.4917 - val_accuracy: 0.8462\n",
            "Epoch 6/25\n",
            "3375/3375 [==============================] - 9s 3ms/step - loss: 0.2209 - accuracy: 0.9204 - val_loss: 0.5377 - val_accuracy: 0.8388\n",
            "Epoch 7/25\n",
            "3375/3375 [==============================] - 9s 3ms/step - loss: 0.1958 - accuracy: 0.9293 - val_loss: 0.5887 - val_accuracy: 0.8418\n",
            "Epoch 8/25\n",
            "3375/3375 [==============================] - 9s 3ms/step - loss: 0.1752 - accuracy: 0.9358 - val_loss: 0.5867 - val_accuracy: 0.8397\n",
            "Epoch 9/25\n",
            "3375/3375 [==============================] - 10s 3ms/step - loss: 0.1615 - accuracy: 0.9419 - val_loss: 0.6773 - val_accuracy: 0.8305\n",
            "Epoch 10/25\n",
            "3375/3375 [==============================] - 10s 3ms/step - loss: 0.1463 - accuracy: 0.9477 - val_loss: 0.7420 - val_accuracy: 0.8356\n",
            "Epoch 11/25\n",
            "3375/3375 [==============================] - 9s 3ms/step - loss: 0.1374 - accuracy: 0.9512 - val_loss: 0.8021 - val_accuracy: 0.8371\n",
            "Epoch 12/25\n",
            "3375/3375 [==============================] - 9s 3ms/step - loss: 0.1258 - accuracy: 0.9550 - val_loss: 0.8163 - val_accuracy: 0.8312\n",
            "Epoch 13/25\n",
            "3375/3375 [==============================] - 9s 3ms/step - loss: 0.1185 - accuracy: 0.9581 - val_loss: 0.9389 - val_accuracy: 0.8367\n",
            "Epoch 14/25\n",
            "3375/3375 [==============================] - 10s 3ms/step - loss: 0.1150 - accuracy: 0.9603 - val_loss: 0.9705 - val_accuracy: 0.8313\n",
            "Epoch 15/25\n",
            "3375/3375 [==============================] - 10s 3ms/step - loss: 0.1055 - accuracy: 0.9640 - val_loss: 1.0408 - val_accuracy: 0.8400\n",
            "Epoch 16/25\n",
            "3375/3375 [==============================] - 10s 3ms/step - loss: 0.1013 - accuracy: 0.9648 - val_loss: 1.0598 - val_accuracy: 0.8349\n",
            "Epoch 17/25\n",
            "3375/3375 [==============================] - 10s 3ms/step - loss: 0.0958 - accuracy: 0.9672 - val_loss: 1.1620 - val_accuracy: 0.8291\n",
            "Epoch 18/25\n",
            "3375/3375 [==============================] - 10s 3ms/step - loss: 0.0927 - accuracy: 0.9678 - val_loss: 1.1050 - val_accuracy: 0.8338\n",
            "Epoch 19/25\n",
            "3375/3375 [==============================] - 10s 3ms/step - loss: 0.0899 - accuracy: 0.9701 - val_loss: 1.1640 - val_accuracy: 0.8264\n",
            "Epoch 20/25\n",
            "3375/3375 [==============================] - 10s 3ms/step - loss: 0.0873 - accuracy: 0.9708 - val_loss: 1.2384 - val_accuracy: 0.8248\n",
            "Epoch 21/25\n",
            "3375/3375 [==============================] - 9s 3ms/step - loss: 0.0860 - accuracy: 0.9717 - val_loss: 1.2296 - val_accuracy: 0.8330\n",
            "Epoch 22/25\n",
            "3375/3375 [==============================] - 9s 3ms/step - loss: 0.0817 - accuracy: 0.9731 - val_loss: 1.2854 - val_accuracy: 0.8330\n",
            "Epoch 23/25\n",
            "3375/3375 [==============================] - 9s 3ms/step - loss: 0.0758 - accuracy: 0.9749 - val_loss: 1.4027 - val_accuracy: 0.8350\n",
            "Epoch 24/25\n",
            "3375/3375 [==============================] - 12s 4ms/step - loss: 0.0760 - accuracy: 0.9755 - val_loss: 1.4467 - val_accuracy: 0.8288\n",
            "Epoch 25/25\n",
            "3375/3375 [==============================] - 12s 3ms/step - loss: 0.0728 - accuracy: 0.9762 - val_loss: 1.5528 - val_accuracy: 0.8256\n",
            "Model Evaluation\n",
            "238/238 [==============================] - 1s 2ms/step - loss: 1.7509 - accuracy: 0.8237\n"
          ]
        },
        {
          "output_type": "execute_result",
          "data": {
            "text/plain": [
              "[1.750949740409851, 0.8236842155456543]"
            ]
          },
          "metadata": {},
          "execution_count": 15
        }
      ],
      "source": [
        "model = keras.models.Sequential([\n",
        "    tf.keras.Input(shape=(num_words,)),\n",
        "    keras.layers.Dense(128, activation=\"relu\"),\n",
        "    keras.layers.Dense(64, activation=\"relu\"),\n",
        "    keras.layers.Dense(4, activation=\"softmax\")\n",
        "])\n",
        "#[TO COMPLETE] modify the previuos model in order to obtain a new model that overfits the training data\n",
        "\n",
        "model.compile(loss=\"sparse_categorical_crossentropy\",\n",
        "              optimizer=keras.optimizers.Adam(learning_rate=1e-2),#[TO COMPLETE] learning rate\n",
        "              metrics=[\"accuracy\"])\n",
        "\n",
        "history = model.fit(X_train, y_train, epochs=25,#[TO COMPLETE] epochs\n",
        "                    validation_data=(X_valid, y_valid))\n",
        "\n",
        "print(\"Model Evaluation\")\n",
        "model.evaluate(X_test, y_test)"
      ]
    },
    {
      "cell_type": "markdown",
      "metadata": {
        "id": "MS0fujEqh_m3"
      },
      "source": [
        "Define the `plot_learning_curves` function that plots only the losses (not the accuracy)."
      ]
    },
    {
      "cell_type": "code",
      "execution_count": null,
      "metadata": {
        "id": "q5EsklC0DZYH",
        "colab": {
          "base_uri": "https://localhost:8080/",
          "height": 336
        },
        "outputId": "91d1dec0-cff6-4326-e5bc-95b3a192d5c3"
      },
      "outputs": [
        {
          "output_type": "display_data",
          "data": {
            "text/plain": [
              "<Figure size 576x360 with 1 Axes>"
            ],
            "image/png": "[encoded data removed]"
          },
          "metadata": {
            "needs_background": "light"
          }
        }
      ],
      "source": [
        "\n",
        "def plot_learning_curves(history):\n",
        "    plt.figure(figsize=(8, 5))\n",
        "    plt.plot(history.epoch,history.history['loss'], label='train loss')\n",
        "    plt.plot(history.epoch,history.history['val_loss'], label='valid loss')\n",
        "    plt.legend()\n",
        "    plt.title('loss')\n",
        "    plt.grid(True)\n",
        "    plt.show()\n",
        "plot_learning_curves(history)"
      ]
    },
    {
      "cell_type": "markdown",
      "metadata": {
        "id": "OW4Kf4fgDfOs"
      },
      "source": [
        "### [TO COMPLETE] L1 norm\n",
        "\n",
        "One possible way to solve the overitting issue is by using regularization methods. The two most common regularization methods in Deep Learning are the L1-norm regularization and the L2-norm regularization. Both These techniques are based on limiting the capacity of models, by adding a parameter norm penalty to the objective function $\\mathcal{J}$:\n",
        "$$\n",
        "\\hat{\\mathcal{J}}(\\theta,\\mathbf{X},\\mathbf{y}) = \\mathcal{J}(\\theta,\\mathbf{X},\\mathbf{y}) + \\alpha \\Omega(\\theta)\n",
        "$$\n",
        "where $\\alpha$ is a hyperparameter that weighs the relative contribution of the norm penalty $\\Omega$.\n",
        "Lets start by considering the L1-norm regularization where the regularization term is defined as:\n",
        "$$\n",
        " \\Omega(\\theta)=||\\mathbf{W}||_1=\\sum_i |\\mathbf{w}|\n",
        "$$\n",
        "Let's find the values for the $\\alpha$ parameters that allow to remove the overfitting effect."
      ]
    },
    {
      "cell_type": "code",
      "execution_count": null,
      "metadata": {
        "id": "QzD8520dDgw3",
        "colab": {
          "base_uri": "https://localhost:8080/",
          "height": 1000
        },
        "outputId": "ee02fad2-dbb2-47b1-e3f9-c76741f155a4"
      },
      "outputs": [
        {
          "output_type": "stream",
          "name": "stdout",
          "text": [
            "Epoch 1/25\n",
            "3375/3375 [==============================] - 15s 4ms/step - loss: 0.7230 - accuracy: 0.8212 - val_loss: 0.6348 - val_accuracy: 0.8378\n",
            "Epoch 2/25\n",
            "3375/3375 [==============================] - 12s 4ms/step - loss: 0.6138 - accuracy: 0.8383 - val_loss: 0.5975 - val_accuracy: 0.8418\n",
            "Epoch 3/25\n",
            "3375/3375 [==============================] - 12s 4ms/step - loss: 0.5927 - accuracy: 0.8420 - val_loss: 0.5909 - val_accuracy: 0.8432\n",
            "Epoch 4/25\n",
            "3375/3375 [==============================] - 12s 4ms/step - loss: 0.5853 - accuracy: 0.8409 - val_loss: 0.5836 - val_accuracy: 0.8388\n",
            "Epoch 5/25\n",
            "3375/3375 [==============================] - 12s 4ms/step - loss: 0.5810 - accuracy: 0.8416 - val_loss: 0.5853 - val_accuracy: 0.8391\n",
            "Epoch 6/25\n",
            "3375/3375 [==============================] - 12s 4ms/step - loss: 0.5794 - accuracy: 0.8424 - val_loss: 0.5780 - val_accuracy: 0.8433\n",
            "Epoch 7/25\n",
            "3375/3375 [==============================] - 12s 4ms/step - loss: 0.5756 - accuracy: 0.8421 - val_loss: 0.5799 - val_accuracy: 0.8402\n",
            "Epoch 8/25\n",
            "3375/3375 [==============================] - 12s 4ms/step - loss: 0.5752 - accuracy: 0.8421 - val_loss: 0.5732 - val_accuracy: 0.8458\n",
            "Epoch 9/25\n",
            "3375/3375 [==============================] - 12s 4ms/step - loss: 0.5712 - accuracy: 0.8430 - val_loss: 0.5800 - val_accuracy: 0.8424\n",
            "Epoch 10/25\n",
            "3375/3375 [==============================] - 12s 3ms/step - loss: 0.5733 - accuracy: 0.8431 - val_loss: 0.5811 - val_accuracy: 0.8400\n",
            "Epoch 11/25\n",
            "3375/3375 [==============================] - 12s 4ms/step - loss: 0.5702 - accuracy: 0.8418 - val_loss: 0.5747 - val_accuracy: 0.8404\n",
            "Epoch 12/25\n",
            "3375/3375 [==============================] - 12s 4ms/step - loss: 0.5698 - accuracy: 0.8435 - val_loss: 0.5732 - val_accuracy: 0.8424\n",
            "Epoch 13/25\n",
            "3375/3375 [==============================] - 12s 4ms/step - loss: 0.5708 - accuracy: 0.8426 - val_loss: 0.5614 - val_accuracy: 0.8459\n",
            "Epoch 14/25\n",
            "3375/3375 [==============================] - 13s 4ms/step - loss: 0.5685 - accuracy: 0.8435 - val_loss: 0.5863 - val_accuracy: 0.8359\n",
            "Epoch 15/25\n",
            "3375/3375 [==============================] - 13s 4ms/step - loss: 0.5676 - accuracy: 0.8425 - val_loss: 0.5659 - val_accuracy: 0.8447\n",
            "Epoch 16/25\n",
            "3375/3375 [==============================] - 12s 4ms/step - loss: 0.5653 - accuracy: 0.8435 - val_loss: 0.5675 - val_accuracy: 0.8454\n",
            "Epoch 17/25\n",
            "3375/3375 [==============================] - 12s 4ms/step - loss: 0.5669 - accuracy: 0.8428 - val_loss: 0.5589 - val_accuracy: 0.8482\n",
            "Epoch 18/25\n",
            "3375/3375 [==============================] - 12s 4ms/step - loss: 0.5655 - accuracy: 0.8436 - val_loss: 0.5723 - val_accuracy: 0.8419\n",
            "Epoch 19/25\n",
            "3375/3375 [==============================] - 13s 4ms/step - loss: 0.5667 - accuracy: 0.8427 - val_loss: 0.5600 - val_accuracy: 0.8467\n",
            "Epoch 20/25\n",
            "3375/3375 [==============================] - 12s 4ms/step - loss: 0.5660 - accuracy: 0.8427 - val_loss: 0.5707 - val_accuracy: 0.8404\n",
            "Epoch 21/25\n",
            "3375/3375 [==============================] - 12s 4ms/step - loss: 0.5638 - accuracy: 0.8431 - val_loss: 0.5721 - val_accuracy: 0.8403\n",
            "Epoch 22/25\n",
            "3375/3375 [==============================] - 13s 4ms/step - loss: 0.5645 - accuracy: 0.8438 - val_loss: 0.5855 - val_accuracy: 0.8363\n",
            "Epoch 23/25\n",
            "3375/3375 [==============================] - 12s 4ms/step - loss: 0.5655 - accuracy: 0.8436 - val_loss: 0.5801 - val_accuracy: 0.8464\n",
            "Epoch 24/25\n",
            "3375/3375 [==============================] - 13s 4ms/step - loss: 0.5654 - accuracy: 0.8435 - val_loss: 0.5665 - val_accuracy: 0.8442\n",
            "Epoch 25/25\n",
            "3375/3375 [==============================] - 13s 4ms/step - loss: 0.5657 - accuracy: 0.8431 - val_loss: 0.5712 - val_accuracy: 0.8449\n",
            "Model Evaluation\n",
            "238/238 [==============================] - 1s 3ms/step - loss: 0.5860 - accuracy: 0.8364\n"
          ]
        },
        {
          "output_type": "display_data",
          "data": {
            "text/plain": [
              "<Figure size 576x360 with 1 Axes>"
            ],
            "image/png": "[encoded data removed]"
          },
          "metadata": {
            "needs_background": "light"
          }
        }
      ],
      "source": [
        "#In Keras is neccesary to add the regularizer by using the attribute kernel_regularizer\n",
        "#to each layer whose weights will be considered in the Omega function.\n",
        "#is it also possibile to consider the bias by using the attribute bias_regularizer \n",
        "#tf.keras.regularizers.l1(alpha) perfroms the L1-norm regularization\n",
        "\n",
        "#[TO COMPLETE] copy the model that you previously defined that overfits the \n",
        "#training data, and add the L1-norm regularization. Use a proper value for the\n",
        "#alpha hyper-parameter, that prevents the model from overfitting. The results  \n",
        "#reached by the model in terms of loss and accuracy (in all data sets) should be\n",
        "#comparable with the ones obtained by the initial model defined in Exercise 2.1 \n",
        "\n",
        "#In general, a layer that exploits L1-norm regularization is defined as follows:\n",
        "\n",
        "#model.add(keras.layers.Dense(units=[TO COMPLETE], activation=[TO COMPLETE], kernel_regularizer=tf.keras.regularizers.l1([TO COMPLETE]))) \n",
        "\n",
        "model = keras.models.Sequential([\n",
        "    tf.keras.Input(shape=(num_words,)),\n",
        "    keras.layers.Dense(128, activation=\"relu\",kernel_regularizer = tf.keras.regularizers.l1(1e-4)),\n",
        "    keras.layers.Dense(64, activation=\"relu\",kernel_regularizer = tf.keras.regularizers.l1(1e-4)),\n",
        "    keras.layers.Dense(4, activation=\"softmax\")\n",
        "])\n",
        "#[TO COMPLETE]\n",
        "\n",
        "\n",
        "model.compile(loss=\"sparse_categorical_crossentropy\",\n",
        "              optimizer=keras.optimizers.Adam(learning_rate=1e-2),#[TO COMPLETE] learning rate\n",
        "              metrics=[\"accuracy\"])\n",
        "\n",
        "history = model.fit(X_train, y_train, epochs=25,#[TO COMPLETE] epochs\n",
        "                    validation_data=(X_valid, y_valid))\n",
        "\n",
        "print(\"Model Evaluation\")\n",
        "model.evaluate(X_test, y_test)\n",
        "plot_learning_curves(history)"
      ]
    },
    {
      "cell_type": "markdown",
      "metadata": {
        "id": "CgnCGYUvDqbC"
      },
      "source": [
        "### [TO COMPLETE] L2-norm\n",
        "\n",
        "L2-norm regularization is also known as weight decay. This strategy drives the weights closer to the origin by adding the regularization term omega which is defined as:\n",
        "$$\n",
        " \\Omega(\\theta)=\\frac{1}{2}||\\mathbf{W}||_2^2\n",
        "$$\n",
        "\n",
        "Let's find the values for the $\\alpha$ parameters that allow removing remove the overfitting effect with L2-norm."
      ]
    },
    {
      "cell_type": "code",
      "execution_count": null,
      "metadata": {
        "id": "qqNhu350DtJo",
        "colab": {
          "base_uri": "https://localhost:8080/",
          "height": 1000
        },
        "outputId": "86f4355a-0df9-4f06-f3c3-54a443f294e8"
      },
      "outputs": [
        {
          "output_type": "stream",
          "name": "stdout",
          "text": [
            "Epoch 1/25\n",
            "3375/3375 [==============================] - 13s 4ms/step - loss: 0.6063 - accuracy: 0.8212 - val_loss: 0.5606 - val_accuracy: 0.8337\n",
            "Epoch 2/25\n",
            "3375/3375 [==============================] - 13s 4ms/step - loss: 0.5432 - accuracy: 0.8364 - val_loss: 0.5226 - val_accuracy: 0.8377\n",
            "Epoch 3/25\n",
            "3375/3375 [==============================] - 12s 4ms/step - loss: 0.5203 - accuracy: 0.8403 - val_loss: 0.5175 - val_accuracy: 0.8382\n",
            "Epoch 4/25\n",
            "3375/3375 [==============================] - 12s 4ms/step - loss: 0.5126 - accuracy: 0.8408 - val_loss: 0.5178 - val_accuracy: 0.8372\n",
            "Epoch 5/25\n",
            "3375/3375 [==============================] - 12s 4ms/step - loss: 0.5117 - accuracy: 0.8410 - val_loss: 0.5199 - val_accuracy: 0.8389\n",
            "Epoch 6/25\n",
            "3375/3375 [==============================] - 12s 4ms/step - loss: 0.5103 - accuracy: 0.8410 - val_loss: 0.5052 - val_accuracy: 0.8439\n",
            "Epoch 7/25\n",
            "3375/3375 [==============================] - 12s 4ms/step - loss: 0.5093 - accuracy: 0.8411 - val_loss: 0.5177 - val_accuracy: 0.8372\n",
            "Epoch 8/25\n",
            "3375/3375 [==============================] - 12s 4ms/step - loss: 0.5080 - accuracy: 0.8402 - val_loss: 0.5101 - val_accuracy: 0.8447\n",
            "Epoch 9/25\n",
            "3375/3375 [==============================] - 13s 4ms/step - loss: 0.5070 - accuracy: 0.8419 - val_loss: 0.5120 - val_accuracy: 0.8393\n",
            "Epoch 10/25\n",
            "3375/3375 [==============================] - 12s 4ms/step - loss: 0.5083 - accuracy: 0.8408 - val_loss: 0.5286 - val_accuracy: 0.8331\n",
            "Epoch 11/25\n",
            "3375/3375 [==============================] - 12s 4ms/step - loss: 0.5071 - accuracy: 0.8407 - val_loss: 0.5198 - val_accuracy: 0.8343\n",
            "Epoch 12/25\n",
            "3375/3375 [==============================] - 12s 4ms/step - loss: 0.5052 - accuracy: 0.8415 - val_loss: 0.5090 - val_accuracy: 0.8399\n",
            "Epoch 13/25\n",
            "3375/3375 [==============================] - 11s 3ms/step - loss: 0.5050 - accuracy: 0.8401 - val_loss: 0.5074 - val_accuracy: 0.8403\n",
            "Epoch 14/25\n",
            "3375/3375 [==============================] - 11s 3ms/step - loss: 0.5031 - accuracy: 0.8406 - val_loss: 0.5173 - val_accuracy: 0.8322\n",
            "Epoch 15/25\n",
            "3375/3375 [==============================] - 11s 3ms/step - loss: 0.5030 - accuracy: 0.8405 - val_loss: 0.5091 - val_accuracy: 0.8407\n",
            "Epoch 16/25\n",
            "3375/3375 [==============================] - 11s 3ms/step - loss: 0.5013 - accuracy: 0.8420 - val_loss: 0.5102 - val_accuracy: 0.8380\n",
            "Epoch 17/25\n",
            "3375/3375 [==============================] - 12s 3ms/step - loss: 0.5018 - accuracy: 0.8407 - val_loss: 0.4953 - val_accuracy: 0.8464\n",
            "Epoch 18/25\n",
            "3375/3375 [==============================] - 12s 4ms/step - loss: 0.5020 - accuracy: 0.8411 - val_loss: 0.5067 - val_accuracy: 0.8380\n",
            "Epoch 19/25\n",
            "3375/3375 [==============================] - 12s 3ms/step - loss: 0.5038 - accuracy: 0.8403 - val_loss: 0.4995 - val_accuracy: 0.8422\n",
            "Epoch 20/25\n",
            "3375/3375 [==============================] - 12s 3ms/step - loss: 0.5022 - accuracy: 0.8406 - val_loss: 0.5205 - val_accuracy: 0.8348\n",
            "Epoch 21/25\n",
            "3375/3375 [==============================] - 12s 3ms/step - loss: 0.5022 - accuracy: 0.8403 - val_loss: 0.5065 - val_accuracy: 0.8424\n",
            "Epoch 22/25\n",
            "3375/3375 [==============================] - 12s 3ms/step - loss: 0.5032 - accuracy: 0.8414 - val_loss: 0.5162 - val_accuracy: 0.8394\n",
            "Epoch 23/25\n",
            "3375/3375 [==============================] - 11s 3ms/step - loss: 0.5006 - accuracy: 0.8415 - val_loss: 0.5216 - val_accuracy: 0.8373\n",
            "Epoch 24/25\n",
            "3375/3375 [==============================] - 12s 3ms/step - loss: 0.5016 - accuracy: 0.8412 - val_loss: 0.5072 - val_accuracy: 0.8391\n",
            "Epoch 25/25\n",
            "3375/3375 [==============================] - 11s 3ms/step - loss: 0.5006 - accuracy: 0.8415 - val_loss: 0.5032 - val_accuracy: 0.8436\n",
            "Model Evaluation\n",
            "238/238 [==============================] - 1s 2ms/step - loss: 0.5215 - accuracy: 0.8361\n"
          ]
        },
        {
          "output_type": "display_data",
          "data": {
            "text/plain": [
              "<Figure size 576x360 with 1 Axes>"
            ],
            "image/png": "[encoded data removed]"
          },
          "metadata": {
            "needs_background": "light"
          }
        }
      ],
      "source": [
        "#[TO COMPLETE] insert the model that you previously defined that overfit the \n",
        "#trainig data, and add the L2-norm regularization. Use proper values for the\n",
        "#alpha hyper-parameters, that prevents the model from overfitting. The results  \n",
        "#reached by the model in terms of loss and accuracy (in all data sets) should be\n",
        "#comparable with the ones obtained by the initial model defined in Exercise 2.1\n",
        "\n",
        "#In general, a layer that exploits L2-norm regularization is defined as follow:\n",
        "\n",
        "#model.add(keras.layers.Dense(units=[TO COMPLETE], activation=[TO COMPLETE],kernel_regularizer=tf.keras.regularizers.l2([TO COMPLETE]))) \n",
        "\n",
        "model = keras.models.Sequential([\n",
        "    tf.keras.Input(shape=(num_words,)),\n",
        "    keras.layers.Dense(128, activation=\"relu\",kernel_regularizer = tf.keras.regularizers.l2(1e-4)),\n",
        "    keras.layers.Dense(64, activation=\"relu\",kernel_regularizer = tf.keras.regularizers.l2(1e-4)),\n",
        "    keras.layers.Dense(4, activation=\"softmax\")\n",
        "])\n",
        "#[TO COMPLETE]\n",
        "\n",
        "model.compile(loss=\"sparse_categorical_crossentropy\",\n",
        "              optimizer=keras.optimizers.Adam(learning_rate=1e-2),#[TO COMPLETE] learning rate\n",
        "              metrics=[\"accuracy\"])\n",
        "\n",
        "history = model.fit(X_train, y_train, epochs=25,#[TO COMPLETE] epochs\n",
        "                    validation_data=(X_valid, y_valid))\n",
        "\n",
        "print(\"Model Evaluation\")\n",
        "model.evaluate(X_test, y_test)\n",
        "plot_learning_curves(history)"
      ]
    },
    {
      "cell_type": "markdown",
      "metadata": {
        "id": "xvyKPb4DD25G"
      },
      "source": [
        "###[TO COMPLETE] Early stopping\n",
        "\n",
        "Early Stopping is a form of regularization used to avoid overfitting. It is designed to monitor the generalization error of one model and stop training when generalization error begins to degrade. In order to evaluate the generalization error, early stopping requires that a validation dataset is evaluated during training. Then, when the validation error does not improve for a specific number of epochs (`patience` hyper-parameter), it stops the training phase."
      ]
    },
    {
      "cell_type": "code",
      "execution_count": null,
      "metadata": {
        "id": "MqNOOZ11D7cq",
        "colab": {
          "base_uri": "https://localhost:8080/",
          "height": 683
        },
        "outputId": "0f830abe-320a-40fe-9da0-b8e977654e6c"
      },
      "outputs": [
        {
          "output_type": "stream",
          "name": "stdout",
          "text": [
            "Epoch 1/25\n",
            "3375/3375 [==============================] - 10s 3ms/step - loss: 0.4694 - accuracy: 0.8313 - val_loss: 0.4339 - val_accuracy: 0.8435\n",
            "Epoch 2/25\n",
            "3375/3375 [==============================] - 9s 3ms/step - loss: 0.3904 - accuracy: 0.8587 - val_loss: 0.4098 - val_accuracy: 0.8536\n",
            "Epoch 3/25\n",
            "3375/3375 [==============================] - 9s 3ms/step - loss: 0.3406 - accuracy: 0.8775 - val_loss: 0.4294 - val_accuracy: 0.8487\n",
            "Epoch 4/25\n",
            "3375/3375 [==============================] - 9s 3ms/step - loss: 0.2924 - accuracy: 0.8943 - val_loss: 0.4354 - val_accuracy: 0.8494\n",
            "Epoch 5/25\n",
            "3375/3375 [==============================] - 9s 3ms/step - loss: 0.2525 - accuracy: 0.9087 - val_loss: 0.4924 - val_accuracy: 0.8453\n",
            "Epoch 6/25\n",
            "3375/3375 [==============================] - 9s 3ms/step - loss: 0.2202 - accuracy: 0.9199 - val_loss: 0.5466 - val_accuracy: 0.8456\n",
            "Epoch 7/25\n",
            "3375/3375 [==============================] - 9s 3ms/step - loss: 0.1935 - accuracy: 0.9311 - val_loss: 0.5598 - val_accuracy: 0.8428\n",
            "Epoch 8/25\n",
            "3375/3375 [==============================] - 9s 3ms/step - loss: 0.1724 - accuracy: 0.9389 - val_loss: 0.5686 - val_accuracy: 0.8415\n",
            "Epoch 9/25\n",
            "3375/3375 [==============================] - 10s 3ms/step - loss: 0.1541 - accuracy: 0.9454 - val_loss: 0.6405 - val_accuracy: 0.8373\n",
            "Model Evaluation\n",
            "238/238 [==============================] - 1s 2ms/step - loss: 0.4160 - accuracy: 0.8499\n"
          ]
        },
        {
          "output_type": "display_data",
          "data": {
            "text/plain": [
              "<Figure size 576x360 with 1 Axes>"
            ],
            "image/png": "[encoded data removed]"
          },
          "metadata": {
            "needs_background": "light"
          }
        }
      ],
      "source": [
        "#[TO COMPLETE] insert the model that you previously defined that overfit the \n",
        "#trainnig data\n",
        "model = keras.models.Sequential([\n",
        "    tf.keras.Input(shape=(num_words,)),\n",
        "    keras.layers.Dense(128, activation=\"relu\"),\n",
        "    keras.layers.Dense(64, activation=\"relu\"),\n",
        "    keras.layers.Dense(4, activation=\"softmax\")\n",
        "])\n",
        "\n",
        "\n",
        "model.compile(loss=\"sparse_categorical_crossentropy\",\n",
        "              optimizer=keras.optimizers.Adam(learning_rate=1e-2),#[TO COMPLETE] learning rate\n",
        "\n",
        "              metrics=[\"accuracy\"])\n",
        "\n",
        "#Let's define a log dir in order to save the checkpoint file\n",
        "logdir = os.path.join(os.curdir, \"my_logs\", \"run_{}\".format(time.time()))\n",
        "\n",
        "#In Keras the early stopping is manage by using the callbacks argument.\n",
        "callbacks = [\n",
        "    keras.callbacks.TensorBoard(logdir),\n",
        "    keras.callbacks.EarlyStopping(patience=7),#[TO COMPLETE] play with patience and find the value that prevents the model from overfitting.\n",
        "\n",
        "\n",
        "    #Saving the checkpoints file allows to load the \"best\" model when the Early \n",
        "    #stopping detect that the generalization error degrade (after 'patience' epochs)\n",
        "    keras.callbacks.ModelCheckpoint(\"my_mnist_model.h5\", save_best_only=True),\n",
        "]\n",
        "\n",
        "history = model.fit(X_train, y_train, epochs=25,#[TO COMPLETE] epochs\n",
        "                    validation_data=(X_valid, y_valid),\n",
        "                    callbacks=callbacks)\n",
        "\n",
        "print(\"Model Evaluation\")\n",
        "#The early stopping stopped training after few epochs without progress, so your\n",
        "#model may already have started to overfit the training set. Since the \n",
        "#ModelCheckpoint callback only saved the best models (on the validation set) the\n",
        "#last saved model is the best on the validation set.\n",
        "model = keras.models.load_model(\"my_mnist_model.h5\")\n",
        "model.evaluate(X_test, y_test)\n",
        "plot_learning_curves(history)"
      ]
    },
    {
      "cell_type": "markdown",
      "metadata": {
        "id": "DCV8pwVzl9GK"
      },
      "source": [
        "\n",
        "## Exercise 2.3: Model Selection\n",
        "\n",
        "Hyperparameters are the parameters of the learning method itself which we have to specify a priori, i.e., before model fitting. In contrast, model parameters are parameters which arise as a result of the fit (the network weights). The aim of model selection is selecting the best hyperparameters for our deep network. Finding the right hyperparameters for a model can be crucial for the model performance on given data. For istance lets consider our model trained by using different values for the learning rate: "
      ]
    },
    {
      "cell_type": "code",
      "execution_count": null,
      "metadata": {
        "id": "Fw8Hs-AEmLKh"
      },
      "outputs": [],
      "source": [
        "learning_rates = [1e-4, 1e-2, 1e-1]"
      ]
    },
    {
      "cell_type": "code",
      "execution_count": null,
      "metadata": {
        "id": "mym4GOgUmWqD",
        "colab": {
          "base_uri": "https://localhost:8080/"
        },
        "outputId": "5fb49709-bf5c-4127-87ed-620218ea63c2"
      },
      "outputs": [
        {
          "output_type": "stream",
          "name": "stdout",
          "text": [
            "Epoch 1/10\n",
            "3375/3375 [==============================] - 7s 2ms/step - loss: 0.7762 - accuracy: 0.7369 - val_loss: 0.4982 - val_accuracy: 0.8332\n",
            "Epoch 2/10\n",
            "3375/3375 [==============================] - 7s 2ms/step - loss: 0.4513 - accuracy: 0.8456 - val_loss: 0.4447 - val_accuracy: 0.8469\n",
            "Epoch 3/10\n",
            "3375/3375 [==============================] - 6s 2ms/step - loss: 0.4194 - accuracy: 0.8534 - val_loss: 0.4320 - val_accuracy: 0.8501\n",
            "Epoch 4/10\n",
            "3375/3375 [==============================] - 6s 2ms/step - loss: 0.4070 - accuracy: 0.8565 - val_loss: 0.4246 - val_accuracy: 0.8498\n",
            "Epoch 5/10\n",
            "3375/3375 [==============================] - 7s 2ms/step - loss: 0.4002 - accuracy: 0.8582 - val_loss: 0.4216 - val_accuracy: 0.8519\n",
            "Epoch 6/10\n",
            "3375/3375 [==============================] - 7s 2ms/step - loss: 0.3955 - accuracy: 0.8589 - val_loss: 0.4187 - val_accuracy: 0.8521\n",
            "Epoch 7/10\n",
            "3375/3375 [==============================] - 7s 2ms/step - loss: 0.3918 - accuracy: 0.8599 - val_loss: 0.4160 - val_accuracy: 0.8524\n",
            "Epoch 8/10\n",
            "3375/3375 [==============================] - 7s 2ms/step - loss: 0.3887 - accuracy: 0.8611 - val_loss: 0.4146 - val_accuracy: 0.8522\n",
            "Epoch 9/10\n",
            "3375/3375 [==============================] - 7s 2ms/step - loss: 0.3860 - accuracy: 0.8617 - val_loss: 0.4122 - val_accuracy: 0.8530\n",
            "Epoch 10/10\n",
            "3375/3375 [==============================] - 6s 2ms/step - loss: 0.3836 - accuracy: 0.8618 - val_loss: 0.4113 - val_accuracy: 0.8531\n",
            "evaluation on test set\n",
            "238/238 [==============================] - 1s 2ms/step - loss: 0.4199 - accuracy: 0.8488\n",
            "Epoch 1/10\n",
            "3375/3375 [==============================] - 7s 2ms/step - loss: 0.4644 - accuracy: 0.8319 - val_loss: 0.4413 - val_accuracy: 0.8440\n",
            "Epoch 2/10\n",
            "3375/3375 [==============================] - 7s 2ms/step - loss: 0.4096 - accuracy: 0.8515 - val_loss: 0.4190 - val_accuracy: 0.8489\n",
            "Epoch 3/10\n",
            "3375/3375 [==============================] - 7s 2ms/step - loss: 0.3866 - accuracy: 0.8604 - val_loss: 0.4144 - val_accuracy: 0.8545\n",
            "Epoch 4/10\n",
            "3375/3375 [==============================] - 6s 2ms/step - loss: 0.3717 - accuracy: 0.8669 - val_loss: 0.4192 - val_accuracy: 0.8546\n",
            "Epoch 5/10\n",
            "3375/3375 [==============================] - 7s 2ms/step - loss: 0.3601 - accuracy: 0.8699 - val_loss: 0.4183 - val_accuracy: 0.8510\n",
            "evaluation on test set\n",
            "238/238 [==============================] - 1s 2ms/step - loss: 0.4328 - accuracy: 0.8454\n",
            "Epoch 1/10\n",
            "3375/3375 [==============================] - 7s 2ms/step - loss: 0.6822 - accuracy: 0.7539 - val_loss: 0.8110 - val_accuracy: 0.7837\n",
            "Epoch 2/10\n",
            "3375/3375 [==============================] - 6s 2ms/step - loss: 0.6663 - accuracy: 0.7646 - val_loss: 0.6355 - val_accuracy: 0.7751\n",
            "Epoch 3/10\n",
            "3375/3375 [==============================] - 7s 2ms/step - loss: 0.6467 - accuracy: 0.7593 - val_loss: 0.6675 - val_accuracy: 0.7879\n",
            "Epoch 4/10\n",
            "3375/3375 [==============================] - 6s 2ms/step - loss: 0.8838 - accuracy: 0.6253 - val_loss: 0.9991 - val_accuracy: 0.5851\n",
            "evaluation on test set\n",
            "238/238 [==============================] - 1s 2ms/step - loss: 1.0011 - accuracy: 0.5820\n"
          ]
        }
      ],
      "source": [
        "histories = []\n",
        "for learning_rate in learning_rates:\n",
        "    model = keras.models.Sequential([\n",
        "                                    tf.keras.Input(shape=(num_words,)),\n",
        "                                    keras.layers.Dense(16, activation=\"relu\"),\n",
        "                                    keras.layers.Dense(16, activation=\"relu\"),\n",
        "                                    keras.layers.Dense(4, activation=\"softmax\")\n",
        "                                     ])\n",
        "    model.compile(loss=\"sparse_categorical_crossentropy\",\n",
        "              optimizer=keras.optimizers.Adam(learning_rate=learning_rate),\n",
        "              metrics=[\"accuracy\"])\n",
        "              \n",
        "    callbacks = [keras.callbacks.EarlyStopping(patience=2)]\n",
        "\n",
        "    history = model.fit(X_train, y_train,\n",
        "                        validation_data=(X_valid, y_valid), epochs=10,\n",
        "                        callbacks=callbacks)\n",
        "    histories.append(history)\n",
        "    print(\"evaluation on test set\")\n",
        "    model.evaluate(X_test, y_test)"
      ]
    },
    {
      "cell_type": "markdown",
      "metadata": {
        "id": "RzTSjfwptkHJ"
      },
      "source": [
        "Let's plot the results"
      ]
    },
    {
      "cell_type": "code",
      "execution_count": null,
      "metadata": {
        "id": "cIlN1vlioIYh",
        "colab": {
          "base_uri": "https://localhost:8080/",
          "height": 978
        },
        "outputId": "93aca0c9-71e8-4172-91ad-80901a26e77d"
      },
      "outputs": [
        {
          "output_type": "stream",
          "name": "stdout",
          "text": [
            "Learning rate: 0.0001\n"
          ]
        },
        {
          "output_type": "display_data",
          "data": {
            "text/plain": [
              "<Figure size 576x360 with 1 Axes>"
            ],
            "image/png": "[encoded data removed]"
          },
          "metadata": {
            "needs_background": "light"
          }
        },
        {
          "output_type": "stream",
          "name": "stdout",
          "text": [
            "Learning rate: 0.01\n"
          ]
        },
        {
          "output_type": "display_data",
          "data": {
            "text/plain": [
              "<Figure size 576x360 with 1 Axes>"
            ],
            "image/png": "[encoded data removed]"
          },
          "metadata": {
            "needs_background": "light"
          }
        },
        {
          "output_type": "stream",
          "name": "stdout",
          "text": [
            "Learning rate: 0.1\n"
          ]
        },
        {
          "output_type": "display_data",
          "data": {
            "text/plain": [
              "<Figure size 576x360 with 1 Axes>"
            ],
            "image/png": "[encoded data removed]"
          },
          "metadata": {
            "needs_background": "light"
          }
        }
      ],
      "source": [
        "for learning_rate, history in zip(learning_rates, histories):\n",
        "    print(\"Learning rate:\", learning_rate)\n",
        "    plot_learning_acc_and_loss(history)"
      ]
    },
    {
      "cell_type": "markdown",
      "metadata": {
        "id": "_JntujSWq3e5"
      },
      "source": [
        "### [TO COMPLETE] GRID Search:\n",
        "\n",
        "Since a deep net has many hyperparameters, in order to find the best ones, we have to consider all the possible combinations of all of the possible values. One common method to perform this complex task is Grid-Search.\n",
        "Given a set of values for each hyper-parameter, Grid-Search will build a model on each parameter combination possible. It iterates through every parameter combination and stores a model for each combination. Finally, the model that obtained the best result on the validation set will be select.\n",
        "\n",
        "In order to perfrom Grid-Search we will use the `GridSearchCV` class from `scikit-learn`."
      ]
    },
    {
      "cell_type": "markdown",
      "metadata": {
        "id": "CPz629YSrDhN"
      },
      "source": [
        "Let's Create a `build_model()` function that takes two arguments, `n_neurons` and `learning_rate`, and builds, compiles and returns a model with the given number of of neurons and the given learning rate.\n",
        "In order to limit the time requirements of the process we will consider only these two hyper-paramters.\n",
        "\n",
        "[TO COMPLETE] in the following code cell define the `build_model` function."
      ]
    },
    {
      "cell_type": "code",
      "execution_count": null,
      "metadata": {
        "id": "oGSKWTTtqxZ4",
        "colab": {
          "base_uri": "https://localhost:8080/"
        },
        "outputId": "cd04814a-c6ea-42e3-b336-db8afdc6d92c"
      },
      "outputs": [
        {
          "output_type": "stream",
          "name": "stderr",
          "text": [
            "/usr/local/lib/python3.7/dist-packages/ipykernel_launcher.py:22: DeprecationWarning: KerasRegressor is deprecated, use Sci-Keras (https://github.com/adriangb/scikeras) instead. See https://www.adriangb.com/scikeras/stable/migration.html for help migrating.\n"
          ]
        }
      ],
      "source": [
        "def build_model(n_units=30, learning_rate=1e-3):\n",
        "    # The function has to build a model similar to the ones we used in previuous execises:\n",
        "    #- a input layer \n",
        "    #- one or two Dense layers composed of n_units and that exploit Relu activation function \n",
        "    #- the output layer that uses the sigmoid activation function\n",
        "    # Then, the model has to be compiled.\n",
        "    model = keras.models.Sequential([\n",
        "                                    tf.keras.Input(shape=(num_words,)),\n",
        "                                    keras.layers.Dense(n_units, activation=\"relu\"),\n",
        "                                    keras.layers.Dense(4, activation=\"softmax\")\n",
        "                                     ])\n",
        "    \n",
        "    model.compile(loss=\"sparse_categorical_crossentropy\",\n",
        "              optimizer=keras.optimizers.Adam(learning_rate=learning_rate),\n",
        "              metrics=[\"accuracy\"])\n",
        "    \n",
        "    return model\n",
        "\n",
        "    \n",
        "#Create a keras.wrappers.scikit_learn.KerasRegressor and pass the build_model \n",
        "#function to the constructor. This gives you a Scikit-Learn compatible predictor\n",
        "keras_reg = keras.wrappers.scikit_learn.KerasRegressor(build_model)"
      ]
    },
    {
      "cell_type": "markdown",
      "metadata": {
        "id": "PS6W3A2LxDg5"
      },
      "source": [
        "Let's define the lists of hyper-parameters' values. Also in this case, we use a very limited size lists, but in a real-world scenario a reasonable amount of possible values should be considered (try to add some values and check how much the time required to perform the Grid-Search increases)"
      ]
    },
    {
      "cell_type": "code",
      "execution_count": null,
      "metadata": {
        "id": "y-uldCW3ru24"
      },
      "outputs": [],
      "source": [
        "param_distribs = {\n",
        "    \"n_units\": [16, 24],# [TO COMPLETE] insert a list that contains few (2 or 3) reasonable value\n",
        "    \"learning_rate\": [1e-3, 1e-4] #[TO COMPLETE] insert a list that contains few (2 or 3) reasonable values\n",
        "    #Check how the time required to perform GRID search increases when increasing the number of values for each hyper-parameter.\n",
        "}"
      ]
    },
    {
      "cell_type": "markdown",
      "metadata": {
        "id": "bEiBxVYtx_sK"
      },
      "source": [
        "Use a `sklearn.model_selection.GridSearchCV` to search the hyperparameter space of your `KerasRegressor`"
      ]
    },
    {
      "cell_type": "code",
      "execution_count": null,
      "metadata": {
        "id": "iobF2Bvdr9ER"
      },
      "outputs": [],
      "source": [
        "from sklearn.model_selection import GridSearchCV\n",
        "\n",
        "grid_search = GridSearchCV(keras_reg, param_distribs)"
      ]
    },
    {
      "cell_type": "markdown",
      "metadata": {
        "id": "LVGMcZz_yKSX"
      },
      "source": [
        "Run the Grid-Search"
      ]
    },
    {
      "cell_type": "code",
      "execution_count": null,
      "metadata": {
        "id": "-BA3vgTjr-hw",
        "colab": {
          "base_uri": "https://localhost:8080/"
        },
        "outputId": "32b07df1-0e51-49d6-eb48-af7baca5a35b"
      },
      "outputs": [
        {
          "output_type": "stream",
          "name": "stdout",
          "text": [
            "Epoch 1/5\n",
            "2700/2700 [==============================] - 8s 3ms/step - loss: 0.5060 - accuracy: 0.8246 - val_loss: 0.4292 - val_accuracy: 0.8487\n",
            "Epoch 2/5\n",
            "2700/2700 [==============================] - 7s 3ms/step - loss: 0.4062 - accuracy: 0.8546 - val_loss: 0.4097 - val_accuracy: 0.8537\n",
            "Epoch 3/5\n",
            "2700/2700 [==============================] - 7s 3ms/step - loss: 0.3888 - accuracy: 0.8588 - val_loss: 0.4081 - val_accuracy: 0.8519\n",
            "Epoch 4/5\n",
            "2700/2700 [==============================] - 7s 2ms/step - loss: 0.3766 - accuracy: 0.8630 - val_loss: 0.4027 - val_accuracy: 0.8543\n",
            "Epoch 5/5\n",
            "2700/2700 [==============================] - 7s 2ms/step - loss: 0.3659 - accuracy: 0.8650 - val_loss: 0.4016 - val_accuracy: 0.8548\n",
            "675/675 [==============================] - 1s 2ms/step - loss: 0.3891 - accuracy: 0.8594\n",
            "Epoch 1/5\n",
            "2700/2700 [==============================] - 7s 3ms/step - loss: 0.5098 - accuracy: 0.8212 - val_loss: 0.4348 - val_accuracy: 0.8492\n",
            "Epoch 2/5\n",
            "2700/2700 [==============================] - 7s 2ms/step - loss: 0.4092 - accuracy: 0.8536 - val_loss: 0.4168 - val_accuracy: 0.8522\n",
            "Epoch 3/5\n",
            "2700/2700 [==============================] - 7s 2ms/step - loss: 0.3908 - accuracy: 0.8583 - val_loss: 0.4120 - val_accuracy: 0.8526\n",
            "Epoch 4/5\n",
            "2700/2700 [==============================] - 7s 2ms/step - loss: 0.3771 - accuracy: 0.8619 - val_loss: 0.4059 - val_accuracy: 0.8530\n",
            "Epoch 5/5\n",
            "2700/2700 [==============================] - 7s 3ms/step - loss: 0.3655 - accuracy: 0.8664 - val_loss: 0.4032 - val_accuracy: 0.8538\n",
            "675/675 [==============================] - 1s 2ms/step - loss: 0.3948 - accuracy: 0.8549\n",
            "Epoch 1/5\n",
            "2700/2700 [==============================] - 7s 3ms/step - loss: 0.4995 - accuracy: 0.8286 - val_loss: 0.4326 - val_accuracy: 0.8463\n",
            "Epoch 2/5\n",
            "2700/2700 [==============================] - 7s 3ms/step - loss: 0.4046 - accuracy: 0.8553 - val_loss: 0.4161 - val_accuracy: 0.8519\n",
            "Epoch 3/5\n",
            "2700/2700 [==============================] - 7s 3ms/step - loss: 0.3886 - accuracy: 0.8594 - val_loss: 0.4110 - val_accuracy: 0.8529\n",
            "Epoch 4/5\n",
            "2700/2700 [==============================] - 7s 3ms/step - loss: 0.3754 - accuracy: 0.8633 - val_loss: 0.4085 - val_accuracy: 0.8523\n",
            "Epoch 5/5\n",
            "2700/2700 [==============================] - 6s 2ms/step - loss: 0.3631 - accuracy: 0.8669 - val_loss: 0.4011 - val_accuracy: 0.8563\n",
            "675/675 [==============================] - 1s 2ms/step - loss: 0.4096 - accuracy: 0.8518\n",
            "Epoch 1/5\n",
            "2700/2700 [==============================] - 7s 3ms/step - loss: 0.4995 - accuracy: 0.8271 - val_loss: 0.4252 - val_accuracy: 0.8497\n",
            "Epoch 2/5\n",
            "2700/2700 [==============================] - 7s 3ms/step - loss: 0.4057 - accuracy: 0.8536 - val_loss: 0.4098 - val_accuracy: 0.8529\n",
            "Epoch 3/5\n",
            "2700/2700 [==============================] - 7s 3ms/step - loss: 0.3882 - accuracy: 0.8575 - val_loss: 0.4036 - val_accuracy: 0.8532\n",
            "Epoch 4/5\n",
            "2700/2700 [==============================] - 7s 2ms/step - loss: 0.3739 - accuracy: 0.8618 - val_loss: 0.4026 - val_accuracy: 0.8551\n",
            "Epoch 5/5\n",
            "2700/2700 [==============================] - 7s 2ms/step - loss: 0.3621 - accuracy: 0.8665 - val_loss: 0.3982 - val_accuracy: 0.8533\n",
            "675/675 [==============================] - 1s 2ms/step - loss: 0.3906 - accuracy: 0.8578\n",
            "Epoch 1/5\n",
            "2700/2700 [==============================] - 7s 2ms/step - loss: 0.5052 - accuracy: 0.8242 - val_loss: 0.4290 - val_accuracy: 0.8489\n",
            "Epoch 2/5\n",
            "2700/2700 [==============================] - 7s 2ms/step - loss: 0.4042 - accuracy: 0.8539 - val_loss: 0.4164 - val_accuracy: 0.8503\n",
            "Epoch 3/5\n",
            "2700/2700 [==============================] - 7s 2ms/step - loss: 0.3870 - accuracy: 0.8585 - val_loss: 0.4087 - val_accuracy: 0.8528\n",
            "Epoch 4/5\n",
            "2700/2700 [==============================] - 7s 2ms/step - loss: 0.3736 - accuracy: 0.8630 - val_loss: 0.4049 - val_accuracy: 0.8537\n",
            "Epoch 5/5\n",
            "2700/2700 [==============================] - 7s 3ms/step - loss: 0.3622 - accuracy: 0.8661 - val_loss: 0.4040 - val_accuracy: 0.8533\n",
            "675/675 [==============================] - 1s 2ms/step - loss: 0.4078 - accuracy: 0.8529\n",
            "Epoch 1/5\n",
            "2700/2700 [==============================] - 7s 3ms/step - loss: 0.4932 - accuracy: 0.8279 - val_loss: 0.4278 - val_accuracy: 0.8467\n",
            "Epoch 2/5\n",
            "2700/2700 [==============================] - 7s 3ms/step - loss: 0.4023 - accuracy: 0.8552 - val_loss: 0.4063 - val_accuracy: 0.8534\n",
            "Epoch 3/5\n",
            "2700/2700 [==============================] - 7s 3ms/step - loss: 0.3815 - accuracy: 0.8610 - val_loss: 0.4043 - val_accuracy: 0.8571\n",
            "Epoch 4/5\n",
            "2700/2700 [==============================] - 7s 3ms/step - loss: 0.3661 - accuracy: 0.8661 - val_loss: 0.3998 - val_accuracy: 0.8562\n",
            "Epoch 5/5\n",
            "2700/2700 [==============================] - 7s 3ms/step - loss: 0.3523 - accuracy: 0.8701 - val_loss: 0.3994 - val_accuracy: 0.8565\n",
            "675/675 [==============================] - 1s 2ms/step - loss: 0.3860 - accuracy: 0.8601\n",
            "Epoch 1/5\n",
            "2700/2700 [==============================] - 8s 3ms/step - loss: 0.4901 - accuracy: 0.8297 - val_loss: 0.4302 - val_accuracy: 0.8477\n",
            "Epoch 2/5\n",
            "2700/2700 [==============================] - 7s 3ms/step - loss: 0.4026 - accuracy: 0.8548 - val_loss: 0.4114 - val_accuracy: 0.8509\n",
            "Epoch 3/5\n",
            "2700/2700 [==============================] - 7s 3ms/step - loss: 0.3811 - accuracy: 0.8601 - val_loss: 0.4074 - val_accuracy: 0.8554\n",
            "Epoch 4/5\n",
            "2700/2700 [==============================] - 7s 3ms/step - loss: 0.3647 - accuracy: 0.8664 - val_loss: 0.4018 - val_accuracy: 0.8557\n",
            "Epoch 5/5\n",
            "2700/2700 [==============================] - 7s 3ms/step - loss: 0.3500 - accuracy: 0.8719 - val_loss: 0.4018 - val_accuracy: 0.8583\n",
            "675/675 [==============================] - 1s 2ms/step - loss: 0.3916 - accuracy: 0.8562\n",
            "Epoch 1/5\n",
            "2700/2700 [==============================] - 8s 3ms/step - loss: 0.4911 - accuracy: 0.8296 - val_loss: 0.4321 - val_accuracy: 0.8473\n",
            "Epoch 2/5\n",
            "2700/2700 [==============================] - 7s 3ms/step - loss: 0.4008 - accuracy: 0.8557 - val_loss: 0.4079 - val_accuracy: 0.8524\n",
            "Epoch 3/5\n",
            "2700/2700 [==============================] - 7s 3ms/step - loss: 0.3789 - accuracy: 0.8617 - val_loss: 0.4015 - val_accuracy: 0.8541\n",
            "Epoch 4/5\n",
            "2700/2700 [==============================] - 7s 3ms/step - loss: 0.3620 - accuracy: 0.8681 - val_loss: 0.4009 - val_accuracy: 0.8554\n",
            "Epoch 5/5\n",
            "2700/2700 [==============================] - 7s 3ms/step - loss: 0.3481 - accuracy: 0.8733 - val_loss: 0.3970 - val_accuracy: 0.8568\n",
            "675/675 [==============================] - 1s 2ms/step - loss: 0.4047 - accuracy: 0.8525\n",
            "Epoch 1/5\n",
            "2700/2700 [==============================] - 7s 3ms/step - loss: 0.4921 - accuracy: 0.8287 - val_loss: 0.4213 - val_accuracy: 0.8497\n",
            "Epoch 2/5\n",
            "2700/2700 [==============================] - 7s 3ms/step - loss: 0.4016 - accuracy: 0.8531 - val_loss: 0.4052 - val_accuracy: 0.8537\n",
            "Epoch 3/5\n",
            "2700/2700 [==============================] - 7s 3ms/step - loss: 0.3819 - accuracy: 0.8586 - val_loss: 0.3990 - val_accuracy: 0.8544\n",
            "Epoch 4/5\n",
            "2700/2700 [==============================] - 7s 3ms/step - loss: 0.3659 - accuracy: 0.8650 - val_loss: 0.3991 - val_accuracy: 0.8529\n",
            "Epoch 5/5\n",
            "2700/2700 [==============================] - 7s 3ms/step - loss: 0.3521 - accuracy: 0.8686 - val_loss: 0.3941 - val_accuracy: 0.8556\n",
            "675/675 [==============================] - 1s 2ms/step - loss: 0.3872 - accuracy: 0.8619\n",
            "Epoch 1/5\n",
            "2700/2700 [==============================] - 8s 3ms/step - loss: 0.4914 - accuracy: 0.8289 - val_loss: 0.4239 - val_accuracy: 0.8501\n",
            "Epoch 2/5\n",
            "2700/2700 [==============================] - 7s 3ms/step - loss: 0.3985 - accuracy: 0.8552 - val_loss: 0.4089 - val_accuracy: 0.8533\n",
            "Epoch 3/5\n",
            "2700/2700 [==============================] - 7s 3ms/step - loss: 0.3780 - accuracy: 0.8615 - val_loss: 0.4017 - val_accuracy: 0.8565\n",
            "Epoch 4/5\n",
            "2700/2700 [==============================] - 7s 3ms/step - loss: 0.3616 - accuracy: 0.8669 - val_loss: 0.3983 - val_accuracy: 0.8563\n",
            "Epoch 5/5\n",
            "2700/2700 [==============================] - 7s 3ms/step - loss: 0.3478 - accuracy: 0.8716 - val_loss: 0.3983 - val_accuracy: 0.8577\n",
            "675/675 [==============================] - 1s 2ms/step - loss: 0.4033 - accuracy: 0.8555\n",
            "Epoch 1/5\n",
            "2700/2700 [==============================] - 7s 3ms/step - loss: 0.9607 - accuracy: 0.6838 - val_loss: 0.6372 - val_accuracy: 0.8153\n",
            "Epoch 2/5\n",
            "2700/2700 [==============================] - 7s 3ms/step - loss: 0.5412 - accuracy: 0.8310 - val_loss: 0.4934 - val_accuracy: 0.8385\n",
            "Epoch 3/5\n",
            "2700/2700 [==============================] - 7s 3ms/step - loss: 0.4613 - accuracy: 0.8461 - val_loss: 0.4558 - val_accuracy: 0.8453\n",
            "Epoch 4/5\n",
            "2700/2700 [==============================] - 7s 3ms/step - loss: 0.4334 - accuracy: 0.8520 - val_loss: 0.4402 - val_accuracy: 0.8473\n",
            "Epoch 5/5\n",
            "2700/2700 [==============================] - 7s 3ms/step - loss: 0.4192 - accuracy: 0.8550 - val_loss: 0.4322 - val_accuracy: 0.8491\n",
            "675/675 [==============================] - 1s 2ms/step - loss: 0.4180 - accuracy: 0.8546\n",
            "Epoch 1/5\n",
            "2700/2700 [==============================] - 7s 3ms/step - loss: 0.9465 - accuracy: 0.6868 - val_loss: 0.6309 - val_accuracy: 0.8173\n",
            "Epoch 2/5\n",
            "2700/2700 [==============================] - 7s 3ms/step - loss: 0.5400 - accuracy: 0.8322 - val_loss: 0.5003 - val_accuracy: 0.8390\n",
            "Epoch 3/5\n",
            "2700/2700 [==============================] - 7s 3ms/step - loss: 0.4653 - accuracy: 0.8457 - val_loss: 0.4644 - val_accuracy: 0.8442\n",
            "Epoch 4/5\n",
            "2700/2700 [==============================] - 7s 3ms/step - loss: 0.4380 - accuracy: 0.8508 - val_loss: 0.4489 - val_accuracy: 0.8465\n",
            "Epoch 5/5\n",
            "2700/2700 [==============================] - 7s 3ms/step - loss: 0.4238 - accuracy: 0.8532 - val_loss: 0.4409 - val_accuracy: 0.8476\n",
            "675/675 [==============================] - 1s 2ms/step - loss: 0.4320 - accuracy: 0.8489\n",
            "Epoch 1/5\n",
            "2700/2700 [==============================] - 7s 3ms/step - loss: 0.9238 - accuracy: 0.6982 - val_loss: 0.6157 - val_accuracy: 0.8145\n",
            "Epoch 2/5\n",
            "2700/2700 [==============================] - 7s 3ms/step - loss: 0.5277 - accuracy: 0.8336 - val_loss: 0.4915 - val_accuracy: 0.8369\n",
            "Epoch 3/5\n",
            "2700/2700 [==============================] - 7s 3ms/step - loss: 0.4554 - accuracy: 0.8478 - val_loss: 0.4569 - val_accuracy: 0.8447\n",
            "Epoch 4/5\n",
            "2700/2700 [==============================] - 7s 3ms/step - loss: 0.4283 - accuracy: 0.8535 - val_loss: 0.4421 - val_accuracy: 0.8479\n",
            "Epoch 5/5\n",
            "2700/2700 [==============================] - 7s 3ms/step - loss: 0.4141 - accuracy: 0.8568 - val_loss: 0.4340 - val_accuracy: 0.8498\n",
            "675/675 [==============================] - 1s 2ms/step - loss: 0.4362 - accuracy: 0.8461\n",
            "Epoch 1/5\n",
            "2700/2700 [==============================] - 8s 3ms/step - loss: 0.9295 - accuracy: 0.6953 - val_loss: 0.6194 - val_accuracy: 0.8163\n",
            "Epoch 2/5\n",
            "2700/2700 [==============================] - 7s 3ms/step - loss: 0.5320 - accuracy: 0.8311 - val_loss: 0.4915 - val_accuracy: 0.8375\n",
            "Epoch 3/5\n",
            "2700/2700 [==============================] - 7s 3ms/step - loss: 0.4604 - accuracy: 0.8449 - val_loss: 0.4575 - val_accuracy: 0.8443\n",
            "Epoch 4/5\n",
            "2700/2700 [==============================] - 7s 3ms/step - loss: 0.4347 - accuracy: 0.8505 - val_loss: 0.4432 - val_accuracy: 0.8477\n",
            "Epoch 5/5\n",
            "2700/2700 [==============================] - 7s 2ms/step - loss: 0.4214 - accuracy: 0.8537 - val_loss: 0.4353 - val_accuracy: 0.8493\n",
            "675/675 [==============================] - 1s 2ms/step - loss: 0.4223 - accuracy: 0.8551\n",
            "Epoch 1/5\n",
            "2700/2700 [==============================] - 8s 3ms/step - loss: 0.9055 - accuracy: 0.7061 - val_loss: 0.5958 - val_accuracy: 0.8198\n",
            "Epoch 2/5\n",
            "2700/2700 [==============================] - 7s 3ms/step - loss: 0.5184 - accuracy: 0.8345 - val_loss: 0.4850 - val_accuracy: 0.8401\n",
            "Epoch 3/5\n",
            "2700/2700 [==============================] - 7s 3ms/step - loss: 0.4537 - accuracy: 0.8477 - val_loss: 0.4547 - val_accuracy: 0.8467\n",
            "Epoch 4/5\n",
            "2700/2700 [==============================] - 7s 3ms/step - loss: 0.4293 - accuracy: 0.8532 - val_loss: 0.4420 - val_accuracy: 0.8482\n",
            "Epoch 5/5\n",
            "2700/2700 [==============================] - 7s 3ms/step - loss: 0.4166 - accuracy: 0.8563 - val_loss: 0.4354 - val_accuracy: 0.8501\n",
            "675/675 [==============================] - 1s 2ms/step - loss: 0.4325 - accuracy: 0.8490\n",
            "Epoch 1/5\n",
            "2700/2700 [==============================] - 8s 3ms/step - loss: 0.8766 - accuracy: 0.7106 - val_loss: 0.5682 - val_accuracy: 0.8260\n",
            "Epoch 2/5\n",
            "2700/2700 [==============================] - 7s 3ms/step - loss: 0.5002 - accuracy: 0.8388 - val_loss: 0.4713 - val_accuracy: 0.8423\n",
            "Epoch 3/5\n",
            "2700/2700 [==============================] - 7s 3ms/step - loss: 0.4443 - accuracy: 0.8499 - val_loss: 0.4453 - val_accuracy: 0.8485\n",
            "Epoch 4/5\n",
            "2700/2700 [==============================] - 7s 3ms/step - loss: 0.4233 - accuracy: 0.8548 - val_loss: 0.4338 - val_accuracy: 0.8503\n",
            "Epoch 5/5\n",
            "2700/2700 [==============================] - 7s 3ms/step - loss: 0.4117 - accuracy: 0.8573 - val_loss: 0.4276 - val_accuracy: 0.8522\n",
            "675/675 [==============================] - 1s 2ms/step - loss: 0.4133 - accuracy: 0.8556\n",
            "Epoch 1/5\n",
            "2700/2700 [==============================] - 8s 3ms/step - loss: 0.8571 - accuracy: 0.7235 - val_loss: 0.5629 - val_accuracy: 0.8244\n",
            "Epoch 2/5\n",
            "2700/2700 [==============================] - 7s 3ms/step - loss: 0.4945 - accuracy: 0.8386 - val_loss: 0.4724 - val_accuracy: 0.8408\n",
            "Epoch 3/5\n",
            "2700/2700 [==============================] - 8s 3ms/step - loss: 0.4417 - accuracy: 0.8499 - val_loss: 0.4482 - val_accuracy: 0.8462\n",
            "Epoch 4/5\n",
            "2700/2700 [==============================] - 8s 3ms/step - loss: 0.4218 - accuracy: 0.8541 - val_loss: 0.4371 - val_accuracy: 0.8493\n",
            "Epoch 5/5\n",
            "2700/2700 [==============================] - 7s 3ms/step - loss: 0.4108 - accuracy: 0.8568 - val_loss: 0.4309 - val_accuracy: 0.8494\n",
            "675/675 [==============================] - 1s 2ms/step - loss: 0.4218 - accuracy: 0.8509\n",
            "Epoch 1/5\n",
            "2700/2700 [==============================] - 8s 3ms/step - loss: 0.8644 - accuracy: 0.7234 - val_loss: 0.5712 - val_accuracy: 0.8240\n",
            "Epoch 2/5\n",
            "2700/2700 [==============================] - 7s 3ms/step - loss: 0.4996 - accuracy: 0.8388 - val_loss: 0.4742 - val_accuracy: 0.8413\n",
            "Epoch 3/5\n",
            "2700/2700 [==============================] - 7s 3ms/step - loss: 0.4425 - accuracy: 0.8497 - val_loss: 0.4483 - val_accuracy: 0.8472\n",
            "Epoch 4/5\n",
            "2700/2700 [==============================] - 7s 3ms/step - loss: 0.4206 - accuracy: 0.8552 - val_loss: 0.4366 - val_accuracy: 0.8485\n",
            "Epoch 5/5\n",
            "2700/2700 [==============================] - 7s 3ms/step - loss: 0.4085 - accuracy: 0.8581 - val_loss: 0.4296 - val_accuracy: 0.8505\n",
            "675/675 [==============================] - 1s 2ms/step - loss: 0.4335 - accuracy: 0.8463\n",
            "Epoch 1/5\n",
            "2700/2700 [==============================] - 8s 3ms/step - loss: 0.8491 - accuracy: 0.7331 - val_loss: 0.5615 - val_accuracy: 0.8274\n",
            "Epoch 2/5\n",
            "2700/2700 [==============================] - 9s 3ms/step - loss: 0.4967 - accuracy: 0.8375 - val_loss: 0.4715 - val_accuracy: 0.8416\n",
            "Epoch 3/5\n",
            "2700/2700 [==============================] - 8s 3ms/step - loss: 0.4443 - accuracy: 0.8483 - val_loss: 0.4471 - val_accuracy: 0.8477\n",
            "Epoch 4/5\n",
            "2700/2700 [==============================] - 7s 3ms/step - loss: 0.4245 - accuracy: 0.8531 - val_loss: 0.4367 - val_accuracy: 0.8488\n",
            "Epoch 5/5\n",
            "2700/2700 [==============================] - 7s 3ms/step - loss: 0.4137 - accuracy: 0.8554 - val_loss: 0.4299 - val_accuracy: 0.8486\n",
            "675/675 [==============================] - 1s 2ms/step - loss: 0.4178 - accuracy: 0.8546\n",
            "Epoch 1/5\n",
            "2700/2700 [==============================] - 8s 3ms/step - loss: 0.8634 - accuracy: 0.7236 - val_loss: 0.5649 - val_accuracy: 0.8235\n",
            "Epoch 2/5\n",
            "2700/2700 [==============================] - 7s 3ms/step - loss: 0.4962 - accuracy: 0.8381 - val_loss: 0.4724 - val_accuracy: 0.8418\n",
            "Epoch 3/5\n",
            "2700/2700 [==============================] - 7s 3ms/step - loss: 0.4419 - accuracy: 0.8502 - val_loss: 0.4472 - val_accuracy: 0.8473\n",
            "Epoch 4/5\n",
            "2700/2700 [==============================] - 7s 3ms/step - loss: 0.4209 - accuracy: 0.8546 - val_loss: 0.4363 - val_accuracy: 0.8496\n",
            "Epoch 5/5\n",
            "2700/2700 [==============================] - 7s 3ms/step - loss: 0.4094 - accuracy: 0.8572 - val_loss: 0.4303 - val_accuracy: 0.8512\n",
            "675/675 [==============================] - 1s 2ms/step - loss: 0.4282 - accuracy: 0.8494\n",
            "Epoch 1/5\n",
            "3375/3375 [==============================] - 10s 3ms/step - loss: 0.4744 - accuracy: 0.8330 - val_loss: 0.4179 - val_accuracy: 0.8512\n",
            "Epoch 2/5\n",
            "3375/3375 [==============================] - 9s 3ms/step - loss: 0.3961 - accuracy: 0.8561 - val_loss: 0.4029 - val_accuracy: 0.8539\n",
            "Epoch 3/5\n",
            "3375/3375 [==============================] - 9s 3ms/step - loss: 0.3750 - accuracy: 0.8621 - val_loss: 0.3968 - val_accuracy: 0.8572\n",
            "Epoch 4/5\n",
            "3375/3375 [==============================] - 10s 3ms/step - loss: 0.3589 - accuracy: 0.8674 - val_loss: 0.3930 - val_accuracy: 0.8577\n",
            "Epoch 5/5\n",
            "3375/3375 [==============================] - 9s 3ms/step - loss: 0.3456 - accuracy: 0.8734 - val_loss: 0.3912 - val_accuracy: 0.8574\n"
          ]
        },
        {
          "output_type": "execute_result",
          "data": {
            "text/plain": [
              "GridSearchCV(estimator=<keras.wrappers.scikit_learn.KerasRegressor object at 0x7f4e80e3b190>,\n",
              "             param_grid={'learning_rate': [0.001, 0.0001], 'n_units': [16, 24]})"
            ]
          },
          "metadata": {},
          "execution_count": 21
        }
      ],
      "source": [
        "\n",
        "grid_search.fit(X_train.numpy(), y_train.numpy(), epochs=5,#The number of epochs can be modified (check what happens by increasing it)\n",
        "                validation_data=(X_valid.numpy(), y_valid.numpy()))"
      ]
    },
    {
      "cell_type": "markdown",
      "metadata": {
        "id": "aadmkiOoyM94"
      },
      "source": [
        "Print the best hyper-parameters, and evealuate the best model on the test set."
      ]
    },
    {
      "cell_type": "code",
      "execution_count": null,
      "metadata": {
        "id": "b0nL5OZkylNX",
        "colab": {
          "base_uri": "https://localhost:8080/"
        },
        "outputId": "675b8d21-1782-40b1-ce51-56794050d99c"
      },
      "outputs": [
        {
          "output_type": "stream",
          "name": "stdout",
          "text": [
            "{'learning_rate': 0.001, 'n_units': 24}\n",
            "238/238 [==============================] - 1s 3ms/step - loss: 0.3994 - accuracy: 0.8521\n"
          ]
        },
        {
          "output_type": "execute_result",
          "data": {
            "text/plain": [
              "[0.3993571400642395, 0.8521052598953247]"
            ]
          },
          "metadata": {},
          "execution_count": 22
        }
      ],
      "source": [
        "print(grid_search.best_params_)\n",
        "\n",
        "model = grid_search.best_estimator_.model\n",
        "model.evaluate(X_test, y_test)"
      ]
    }
  ],
  "metadata": {
    "colab": {
      "collapsed_sections": [],
      "name": "HW2(1).ipynb",
      "provenance": []
    },
    "kernelspec": {
      "display_name": "Python 3",
      "name": "python3"
    },
    "language_info": {
      "codemirror_mode": {
        "name": "ipython",
        "version": 3
      },
      "file_extension": ".py",
      "mimetype": "text/x-python",
      "name": "python",
      "nbconvert_exporter": "python",
      "pygments_lexer": "ipython3",
      "version": "3.8.10"
    },
    "widgets": {
      "application/vnd.jupyter.widget-state+json": {
        "c270cefcb6b642e39143d9b0b60f0aca": {
          "model_module": "@jupyter-widgets/controls",
          "model_name": "HBoxModel",
          "model_module_version": "1.5.0",
          "state": {
            "_dom_classes": [],
            "_model_module": "@jupyter-widgets/controls",
            "_model_module_version": "1.5.0",
            "_model_name": "HBoxModel",
            "_view_count": null,
            "_view_module": "@jupyter-widgets/controls",
            "_view_module_version": "1.5.0",
            "_view_name": "HBoxView",
            "box_style": "",
            "children": [
              "IPY_MODEL_c836f0690a56461a98e28784f543d004",
              "IPY_MODEL_dd78899fec0146fa9646faa288731970",
              "IPY_MODEL_b3b1a19950aa4090829e2254e26fd201"
            ],
            "layout": "IPY_MODEL_1af2ae998107431b815154c1285b085d"
          }
        },
        "c836f0690a56461a98e28784f543d004": {
          "model_module": "@jupyter-widgets/controls",
          "model_name": "HTMLModel",
          "model_module_version": "1.5.0",
          "state": {
            "_dom_classes": [],
            "_model_module": "@jupyter-widgets/controls",
            "_model_module_version": "1.5.0",
            "_model_name": "HTMLModel",
            "_view_count": null,
            "_view_module": "@jupyter-widgets/controls",
            "_view_module_version": "1.5.0",
            "_view_name": "HTMLView",
            "description": "",
            "description_tooltip": null,
            "layout": "IPY_MODEL_5192bd6d94d6428ab542e61e22479d5b",
            "placeholder": "​",
            "style": "IPY_MODEL_b1dafb3e061b45b8bc88c5332a8b8569",
            "value": "Dl Completed...: "
          }
        },
        "dd78899fec0146fa9646faa288731970": {
          "model_module": "@jupyter-widgets/controls",
          "model_name": "FloatProgressModel",
          "model_module_version": "1.5.0",
          "state": {
            "_dom_classes": [],
            "_model_module": "@jupyter-widgets/controls",
            "_model_module_version": "1.5.0",
            "_model_name": "FloatProgressModel",
            "_view_count": null,
            "_view_module": "@jupyter-widgets/controls",
            "_view_module_version": "1.5.0",
            "_view_name": "ProgressView",
            "bar_style": "success",
            "description": "",
            "description_tooltip": null,
            "layout": "IPY_MODEL_b83c319b6ca5447280c1ad543d30cb17",
            "max": 1,
            "min": 0,
            "orientation": "horizontal",
            "style": "IPY_MODEL_b0eccfbcb3cb4ae28ac6869139af6975",
            "value": 0
          }
        },
        "b3b1a19950aa4090829e2254e26fd201": {
          "model_module": "@jupyter-widgets/controls",
          "model_name": "HTMLModel",
          "model_module_version": "1.5.0",
          "state": {
            "_dom_classes": [],
            "_model_module": "@jupyter-widgets/controls",
            "_model_module_version": "1.5.0",
            "_model_name": "HTMLModel",
            "_view_count": null,
            "_view_module": "@jupyter-widgets/controls",
            "_view_module_version": "1.5.0",
            "_view_name": "HTMLView",
            "description": "",
            "description_tooltip": null,
            "layout": "IPY_MODEL_9decbebe589b4c6ba8ed8ec40152ce3c",
            "placeholder": "​",
            "style": "IPY_MODEL_6a61bec558544462a70d7a9eb1100b95",
            "value": " 0/0 [00:01&lt;?, ? url/s]"
          }
        },
        "1af2ae998107431b815154c1285b085d": {
          "model_module": "@jupyter-widgets/base",
          "model_name": "LayoutModel",
          "model_module_version": "1.2.0",
          "state": {
            "_model_module": "@jupyter-widgets/base",
            "_model_module_version": "1.2.0",
            "_model_name": "LayoutModel",
            "_view_count": null,
            "_view_module": "@jupyter-widgets/base",
            "_view_module_version": "1.2.0",
            "_view_name": "LayoutView",
            "align_content": null,
            "align_items": null,
            "align_self": null,
            "border": null,
            "bottom": null,
            "display": null,
            "flex": null,
            "flex_flow": null,
            "grid_area": null,
            "grid_auto_columns": null,
            "grid_auto_flow": null,
            "grid_auto_rows": null,
            "grid_column": null,
            "grid_gap": null,
            "grid_row": null,
            "grid_template_areas": null,
            "grid_template_columns": null,
            "grid_template_rows": null,
            "height": null,
            "justify_content": null,
            "justify_items": null,
            "left": null,
            "margin": null,
            "max_height": null,
            "max_width": null,
            "min_height": null,
            "min_width": null,
            "object_fit": null,
            "object_position": null,
            "order": null,
            "overflow": null,
            "overflow_x": null,
            "overflow_y": null,
            "padding": null,
            "right": null,
            "top": null,
            "visibility": null,
            "width": null
          }
        },
        "5192bd6d94d6428ab542e61e22479d5b": {
          "model_module": "@jupyter-widgets/base",
          "model_name": "LayoutModel",
          "model_module_version": "1.2.0",
          "state": {
            "_model_module": "@jupyter-widgets/base",
            "_model_module_version": "1.2.0",
            "_model_name": "LayoutModel",
            "_view_count": null,
            "_view_module": "@jupyter-widgets/base",
            "_view_module_version": "1.2.0",
            "_view_name": "LayoutView",
            "align_content": null,
            "align_items": null,
            "align_self": null,
            "border": null,
            "bottom": null,
            "display": null,
            "flex": null,
            "flex_flow": null,
            "grid_area": null,
            "grid_auto_columns": null,
            "grid_auto_flow": null,
            "grid_auto_rows": null,
            "grid_column": null,
            "grid_gap": null,
            "grid_row": null,
            "grid_template_areas": null,
            "grid_template_columns": null,
            "grid_template_rows": null,
            "height": null,
            "justify_content": null,
            "justify_items": null,
            "left": null,
            "margin": null,
            "max_height": null,
            "max_width": null,
            "min_height": null,
            "min_width": null,
            "object_fit": null,
            "object_position": null,
            "order": null,
            "overflow": null,
            "overflow_x": null,
            "overflow_y": null,
            "padding": null,
            "right": null,
            "top": null,
            "visibility": null,
            "width": null
          }
        },
        "b1dafb3e061b45b8bc88c5332a8b8569": {
          "model_module": "@jupyter-widgets/controls",
          "model_name": "DescriptionStyleModel",
          "model_module_version": "1.5.0",
          "state": {
            "_model_module": "@jupyter-widgets/controls",
            "_model_module_version": "1.5.0",
            "_model_name": "DescriptionStyleModel",
            "_view_count": null,
            "_view_module": "@jupyter-widgets/base",
            "_view_module_version": "1.2.0",
            "_view_name": "StyleView",
            "description_width": ""
          }
        },
        "b83c319b6ca5447280c1ad543d30cb17": {
          "model_module": "@jupyter-widgets/base",
          "model_name": "LayoutModel",
          "model_module_version": "1.2.0",
          "state": {
            "_model_module": "@jupyter-widgets/base",
            "_model_module_version": "1.2.0",
            "_model_name": "LayoutModel",
            "_view_count": null,
            "_view_module": "@jupyter-widgets/base",
            "_view_module_version": "1.2.0",
            "_view_name": "LayoutView",
            "align_content": null,
            "align_items": null,
            "align_self": null,
            "border": null,
            "bottom": null,
            "display": null,
            "flex": null,
            "flex_flow": null,
            "grid_area": null,
            "grid_auto_columns": null,
            "grid_auto_flow": null,
            "grid_auto_rows": null,
            "grid_column": null,
            "grid_gap": null,
            "grid_row": null,
            "grid_template_areas": null,
            "grid_template_columns": null,
            "grid_template_rows": null,
            "height": null,
            "justify_content": null,
            "justify_items": null,
            "left": null,
            "margin": null,
            "max_height": null,
            "max_width": null,
            "min_height": null,
            "min_width": null,
            "object_fit": null,
            "object_position": null,
            "order": null,
            "overflow": null,
            "overflow_x": null,
            "overflow_y": null,
            "padding": null,
            "right": null,
            "top": null,
            "visibility": null,
            "width": "20px"
          }
        },
        "b0eccfbcb3cb4ae28ac6869139af6975": {
          "model_module": "@jupyter-widgets/controls",
          "model_name": "ProgressStyleModel",
          "model_module_version": "1.5.0",
          "state": {
            "_model_module": "@jupyter-widgets/controls",
            "_model_module_version": "1.5.0",
            "_model_name": "ProgressStyleModel",
            "_view_count": null,
            "_view_module": "@jupyter-widgets/base",
            "_view_module_version": "1.2.0",
            "_view_name": "StyleView",
            "bar_color": null,
            "description_width": ""
          }
        },
        "9decbebe589b4c6ba8ed8ec40152ce3c": {
          "model_module": "@jupyter-widgets/base",
          "model_name": "LayoutModel",
          "model_module_version": "1.2.0",
          "state": {
            "_model_module": "@jupyter-widgets/base",
            "_model_module_version": "1.2.0",
            "_model_name": "LayoutModel",
            "_view_count": null,
            "_view_module": "@jupyter-widgets/base",
            "_view_module_version": "1.2.0",
            "_view_name": "LayoutView",
            "align_content": null,
            "align_items": null,
            "align_self": null,
            "border": null,
            "bottom": null,
            "display": null,
            "flex": null,
            "flex_flow": null,
            "grid_area": null,
            "grid_auto_columns": null,
            "grid_auto_flow": null,
            "grid_auto_rows": null,
            "grid_column": null,
            "grid_gap": null,
            "grid_row": null,
            "grid_template_areas": null,
            "grid_template_columns": null,
            "grid_template_rows": null,
            "height": null,
            "justify_content": null,
            "justify_items": null,
            "left": null,
            "margin": null,
            "max_height": null,
            "max_width": null,
            "min_height": null,
            "min_width": null,
            "object_fit": null,
            "object_position": null,
            "order": null,
            "overflow": null,
            "overflow_x": null,
            "overflow_y": null,
            "padding": null,
            "right": null,
            "top": null,
            "visibility": null,
            "width": null
          }
        },
        "6a61bec558544462a70d7a9eb1100b95": {
          "model_module": "@jupyter-widgets/controls",
          "model_name": "DescriptionStyleModel",
          "model_module_version": "1.5.0",
          "state": {
            "_model_module": "@jupyter-widgets/controls",
            "_model_module_version": "1.5.0",
            "_model_name": "DescriptionStyleModel",
            "_view_count": null,
            "_view_module": "@jupyter-widgets/base",
            "_view_module_version": "1.2.0",
            "_view_name": "StyleView",
            "description_width": ""
          }
        },
        "4bcde9d4867548539bca1c079bb35a31": {
          "model_module": "@jupyter-widgets/controls",
          "model_name": "HBoxModel",
          "model_module_version": "1.5.0",
          "state": {
            "_dom_classes": [],
            "_model_module": "@jupyter-widgets/controls",
            "_model_module_version": "1.5.0",
            "_model_name": "HBoxModel",
            "_view_count": null,
            "_view_module": "@jupyter-widgets/controls",
            "_view_module_version": "1.5.0",
            "_view_name": "HBoxView",
            "box_style": "",
            "children": [
              "IPY_MODEL_cf78f27c19824add9914626c281afd1f",
              "IPY_MODEL_34d87bd981bf49c2a510e311ee55aeb1",
              "IPY_MODEL_84f3463d314346748f48820fda4a08df"
            ],
            "layout": "IPY_MODEL_95ad538a371a4a019cba497da08cd7c2"
          }
        },
        "cf78f27c19824add9914626c281afd1f": {
          "model_module": "@jupyter-widgets/controls",
          "model_name": "HTMLModel",
          "model_module_version": "1.5.0",
          "state": {
            "_dom_classes": [],
            "_model_module": "@jupyter-widgets/controls",
            "_model_module_version": "1.5.0",
            "_model_name": "HTMLModel",
            "_view_count": null,
            "_view_module": "@jupyter-widgets/controls",
            "_view_module_version": "1.5.0",
            "_view_name": "HTMLView",
            "description": "",
            "description_tooltip": null,
            "layout": "IPY_MODEL_860c6db9f79342708a8ae2feef667cbc",
            "placeholder": "​",
            "style": "IPY_MODEL_44414b6f6a3c4e1eae6df1ead7b082a3",
            "value": "Dl Size...: "
          }
        },
        "34d87bd981bf49c2a510e311ee55aeb1": {
          "model_module": "@jupyter-widgets/controls",
          "model_name": "FloatProgressModel",
          "model_module_version": "1.5.0",
          "state": {
            "_dom_classes": [],
            "_model_module": "@jupyter-widgets/controls",
            "_model_module_version": "1.5.0",
            "_model_name": "FloatProgressModel",
            "_view_count": null,
            "_view_module": "@jupyter-widgets/controls",
            "_view_module_version": "1.5.0",
            "_view_name": "ProgressView",
            "bar_style": "success",
            "description": "",
            "description_tooltip": null,
            "layout": "IPY_MODEL_23107272366743a1a16246afbe66a7c1",
            "max": 1,
            "min": 0,
            "orientation": "horizontal",
            "style": "IPY_MODEL_64296768fab24d5281baedccd61abc4f",
            "value": 0
          }
        },
        "84f3463d314346748f48820fda4a08df": {
          "model_module": "@jupyter-widgets/controls",
          "model_name": "HTMLModel",
          "model_module_version": "1.5.0",
          "state": {
            "_dom_classes": [],
            "_model_module": "@jupyter-widgets/controls",
            "_model_module_version": "1.5.0",
            "_model_name": "HTMLModel",
            "_view_count": null,
            "_view_module": "@jupyter-widgets/controls",
            "_view_module_version": "1.5.0",
            "_view_name": "HTMLView",
            "description": "",
            "description_tooltip": null,
            "layout": "IPY_MODEL_456d06f084204a9ebb470e6732352f4d",
            "placeholder": "​",
            "style": "IPY_MODEL_a6b54377a10849c3a784f5512a027081",
            "value": " 0/0 [00:00&lt;?, ? MiB/s]"
          }
        },
        "95ad538a371a4a019cba497da08cd7c2": {
          "model_module": "@jupyter-widgets/base",
          "model_name": "LayoutModel",
          "model_module_version": "1.2.0",
          "state": {
            "_model_module": "@jupyter-widgets/base",
            "_model_module_version": "1.2.0",
            "_model_name": "LayoutModel",
            "_view_count": null,
            "_view_module": "@jupyter-widgets/base",
            "_view_module_version": "1.2.0",
            "_view_name": "LayoutView",
            "align_content": null,
            "align_items": null,
            "align_self": null,
            "border": null,
            "bottom": null,
            "display": null,
            "flex": null,
            "flex_flow": null,
            "grid_area": null,
            "grid_auto_columns": null,
            "grid_auto_flow": null,
            "grid_auto_rows": null,
            "grid_column": null,
            "grid_gap": null,
            "grid_row": null,
            "grid_template_areas": null,
            "grid_template_columns": null,
            "grid_template_rows": null,
            "height": null,
            "justify_content": null,
            "justify_items": null,
            "left": null,
            "margin": null,
            "max_height": null,
            "max_width": null,
            "min_height": null,
            "min_width": null,
            "object_fit": null,
            "object_position": null,
            "order": null,
            "overflow": null,
            "overflow_x": null,
            "overflow_y": null,
            "padding": null,
            "right": null,
            "top": null,
            "visibility": null,
            "width": null
          }
        },
        "860c6db9f79342708a8ae2feef667cbc": {
          "model_module": "@jupyter-widgets/base",
          "model_name": "LayoutModel",
          "model_module_version": "1.2.0",
          "state": {
            "_model_module": "@jupyter-widgets/base",
            "_model_module_version": "1.2.0",
            "_model_name": "LayoutModel",
            "_view_count": null,
            "_view_module": "@jupyter-widgets/base",
            "_view_module_version": "1.2.0",
            "_view_name": "LayoutView",
            "align_content": null,
            "align_items": null,
            "align_self": null,
            "border": null,
            "bottom": null,
            "display": null,
            "flex": null,
            "flex_flow": null,
            "grid_area": null,
            "grid_auto_columns": null,
            "grid_auto_flow": null,
            "grid_auto_rows": null,
            "grid_column": null,
            "grid_gap": null,
            "grid_row": null,
            "grid_template_areas": null,
            "grid_template_columns": null,
            "grid_template_rows": null,
            "height": null,
            "justify_content": null,
            "justify_items": null,
            "left": null,
            "margin": null,
            "max_height": null,
            "max_width": null,
            "min_height": null,
            "min_width": null,
            "object_fit": null,
            "object_position": null,
            "order": null,
            "overflow": null,
            "overflow_x": null,
            "overflow_y": null,
            "padding": null,
            "right": null,
            "top": null,
            "visibility": null,
            "width": null
          }
        },
        "44414b6f6a3c4e1eae6df1ead7b082a3": {
          "model_module": "@jupyter-widgets/controls",
          "model_name": "DescriptionStyleModel",
          "model_module_version": "1.5.0",
          "state": {
            "_model_module": "@jupyter-widgets/controls",
            "_model_module_version": "1.5.0",
            "_model_name": "DescriptionStyleModel",
            "_view_count": null,
            "_view_module": "@jupyter-widgets/base",
            "_view_module_version": "1.2.0",
            "_view_name": "StyleView",
            "description_width": ""
          }
        },
        "23107272366743a1a16246afbe66a7c1": {
          "model_module": "@jupyter-widgets/base",
          "model_name": "LayoutModel",
          "model_module_version": "1.2.0",
          "state": {
            "_model_module": "@jupyter-widgets/base",
            "_model_module_version": "1.2.0",
            "_model_name": "LayoutModel",
            "_view_count": null,
            "_view_module": "@jupyter-widgets/base",
            "_view_module_version": "1.2.0",
            "_view_name": "LayoutView",
            "align_content": null,
            "align_items": null,
            "align_self": null,
            "border": null,
            "bottom": null,
            "display": null,
            "flex": null,
            "flex_flow": null,
            "grid_area": null,
            "grid_auto_columns": null,
            "grid_auto_flow": null,
            "grid_auto_rows": null,
            "grid_column": null,
            "grid_gap": null,
            "grid_row": null,
            "grid_template_areas": null,
            "grid_template_columns": null,
            "grid_template_rows": null,
            "height": null,
            "justify_content": null,
            "justify_items": null,
            "left": null,
            "margin": null,
            "max_height": null,
            "max_width": null,
            "min_height": null,
            "min_width": null,
            "object_fit": null,
            "object_position": null,
            "order": null,
            "overflow": null,
            "overflow_x": null,
            "overflow_y": null,
            "padding": null,
            "right": null,
            "top": null,
            "visibility": null,
            "width": "20px"
          }
        },
        "64296768fab24d5281baedccd61abc4f": {
          "model_module": "@jupyter-widgets/controls",
          "model_name": "ProgressStyleModel",
          "model_module_version": "1.5.0",
          "state": {
            "_model_module": "@jupyter-widgets/controls",
            "_model_module_version": "1.5.0",
            "_model_name": "ProgressStyleModel",
            "_view_count": null,
            "_view_module": "@jupyter-widgets/base",
            "_view_module_version": "1.2.0",
            "_view_name": "StyleView",
            "bar_color": null,
            "description_width": ""
          }
        },
        "456d06f084204a9ebb470e6732352f4d": {
          "model_module": "@jupyter-widgets/base",
          "model_name": "LayoutModel",
          "model_module_version": "1.2.0",
          "state": {
            "_model_module": "@jupyter-widgets/base",
            "_model_module_version": "1.2.0",
            "_model_name": "LayoutModel",
            "_view_count": null,
            "_view_module": "@jupyter-widgets/base",
            "_view_module_version": "1.2.0",
            "_view_name": "LayoutView",
            "align_content": null,
            "align_items": null,
            "align_self": null,
            "border": null,
            "bottom": null,
            "display": null,
            "flex": null,
            "flex_flow": null,
            "grid_area": null,
            "grid_auto_columns": null,
            "grid_auto_flow": null,
            "grid_auto_rows": null,
            "grid_column": null,
            "grid_gap": null,
            "grid_row": null,
            "grid_template_areas": null,
            "grid_template_columns": null,
            "grid_template_rows": null,
            "height": null,
            "justify_content": null,
            "justify_items": null,
            "left": null,
            "margin": null,
            "max_height": null,
            "max_width": null,
            "min_height": null,
            "min_width": null,
            "object_fit": null,
            "object_position": null,
            "order": null,
            "overflow": null,
            "overflow_x": null,
            "overflow_y": null,
            "padding": null,
            "right": null,
            "top": null,
            "visibility": null,
            "width": null
          }
        },
        "a6b54377a10849c3a784f5512a027081": {
          "model_module": "@jupyter-widgets/controls",
          "model_name": "DescriptionStyleModel",
          "model_module_version": "1.5.0",
          "state": {
            "_model_module": "@jupyter-widgets/controls",
            "_model_module_version": "1.5.0",
            "_model_name": "DescriptionStyleModel",
            "_view_count": null,
            "_view_module": "@jupyter-widgets/base",
            "_view_module_version": "1.2.0",
            "_view_name": "StyleView",
            "description_width": ""
          }
        },
        "0d6ea9d0cd8340ba9cee99bdf79f4bf6": {
          "model_module": "@jupyter-widgets/controls",
          "model_name": "HBoxModel",
          "model_module_version": "1.5.0",
          "state": {
            "_dom_classes": [],
            "_model_module": "@jupyter-widgets/controls",
            "_model_module_version": "1.5.0",
            "_model_name": "HBoxModel",
            "_view_count": null,
            "_view_module": "@jupyter-widgets/controls",
            "_view_module_version": "1.5.0",
            "_view_name": "HBoxView",
            "box_style": "",
            "children": [
              "IPY_MODEL_266d820a13fa4f3d9b9a47db721d199c",
              "IPY_MODEL_ade5210463d845e08b5273e4803befe6",
              "IPY_MODEL_f9cbad72fd4947f184a417207f871302"
            ],
            "layout": "IPY_MODEL_33a514a48cb24b8e95613f44269d7162"
          }
        },
        "266d820a13fa4f3d9b9a47db721d199c": {
          "model_module": "@jupyter-widgets/controls",
          "model_name": "HTMLModel",
          "model_module_version": "1.5.0",
          "state": {
            "_dom_classes": [],
            "_model_module": "@jupyter-widgets/controls",
            "_model_module_version": "1.5.0",
            "_model_name": "HTMLModel",
            "_view_count": null,
            "_view_module": "@jupyter-widgets/controls",
            "_view_module_version": "1.5.0",
            "_view_name": "HTMLView",
            "description": "",
            "description_tooltip": null,
            "layout": "IPY_MODEL_4e7d69ef9e494b028edd462f2b10d487",
            "placeholder": "​",
            "style": "IPY_MODEL_7589817459114ff8a6e9fc5b08d08537",
            "value": "Extraction completed...: 100%"
          }
        },
        "ade5210463d845e08b5273e4803befe6": {
          "model_module": "@jupyter-widgets/controls",
          "model_name": "FloatProgressModel",
          "model_module_version": "1.5.0",
          "state": {
            "_dom_classes": [],
            "_model_module": "@jupyter-widgets/controls",
            "_model_module_version": "1.5.0",
            "_model_name": "FloatProgressModel",
            "_view_count": null,
            "_view_module": "@jupyter-widgets/controls",
            "_view_module_version": "1.5.0",
            "_view_name": "ProgressView",
            "bar_style": "success",
            "description": "",
            "description_tooltip": null,
            "layout": "IPY_MODEL_b9d553b285da4b20bbb3b5d11b120b9d",
            "max": 1,
            "min": 0,
            "orientation": "horizontal",
            "style": "IPY_MODEL_62a48af2c21e4080b5218cfdd8930707",
            "value": 1
          }
        },
        "f9cbad72fd4947f184a417207f871302": {
          "model_module": "@jupyter-widgets/controls",
          "model_name": "HTMLModel",
          "model_module_version": "1.5.0",
          "state": {
            "_dom_classes": [],
            "_model_module": "@jupyter-widgets/controls",
            "_model_module_version": "1.5.0",
            "_model_name": "HTMLModel",
            "_view_count": null,
            "_view_module": "@jupyter-widgets/controls",
            "_view_module_version": "1.5.0",
            "_view_name": "HTMLView",
            "description": "",
            "description_tooltip": null,
            "layout": "IPY_MODEL_d927d3861e0747989abd9545c426d79b",
            "placeholder": "​",
            "style": "IPY_MODEL_9ea3eaf5216444f5baed77973a1cc604",
            "value": " 1/1 [00:00&lt;00:00,  1.29 file/s]"
          }
        },
        "33a514a48cb24b8e95613f44269d7162": {
          "model_module": "@jupyter-widgets/base",
          "model_name": "LayoutModel",
          "model_module_version": "1.2.0",
          "state": {
            "_model_module": "@jupyter-widgets/base",
            "_model_module_version": "1.2.0",
            "_model_name": "LayoutModel",
            "_view_count": null,
            "_view_module": "@jupyter-widgets/base",
            "_view_module_version": "1.2.0",
            "_view_name": "LayoutView",
            "align_content": null,
            "align_items": null,
            "align_self": null,
            "border": null,
            "bottom": null,
            "display": null,
            "flex": null,
            "flex_flow": null,
            "grid_area": null,
            "grid_auto_columns": null,
            "grid_auto_flow": null,
            "grid_auto_rows": null,
            "grid_column": null,
            "grid_gap": null,
            "grid_row": null,
            "grid_template_areas": null,
            "grid_template_columns": null,
            "grid_template_rows": null,
            "height": null,
            "justify_content": null,
            "justify_items": null,
            "left": null,
            "margin": null,
            "max_height": null,
            "max_width": null,
            "min_height": null,
            "min_width": null,
            "object_fit": null,
            "object_position": null,
            "order": null,
            "overflow": null,
            "overflow_x": null,
            "overflow_y": null,
            "padding": null,
            "right": null,
            "top": null,
            "visibility": null,
            "width": null
          }
        },
        "4e7d69ef9e494b028edd462f2b10d487": {
          "model_module": "@jupyter-widgets/base",
          "model_name": "LayoutModel",
          "model_module_version": "1.2.0",
          "state": {
            "_model_module": "@jupyter-widgets/base",
            "_model_module_version": "1.2.0",
            "_model_name": "LayoutModel",
            "_view_count": null,
            "_view_module": "@jupyter-widgets/base",
            "_view_module_version": "1.2.0",
            "_view_name": "LayoutView",
            "align_content": null,
            "align_items": null,
            "align_self": null,
            "border": null,
            "bottom": null,
            "display": null,
            "flex": null,
            "flex_flow": null,
            "grid_area": null,
            "grid_auto_columns": null,
            "grid_auto_flow": null,
            "grid_auto_rows": null,
            "grid_column": null,
            "grid_gap": null,
            "grid_row": null,
            "grid_template_areas": null,
            "grid_template_columns": null,
            "grid_template_rows": null,
            "height": null,
            "justify_content": null,
            "justify_items": null,
            "left": null,
            "margin": null,
            "max_height": null,
            "max_width": null,
            "min_height": null,
            "min_width": null,
            "object_fit": null,
            "object_position": null,
            "order": null,
            "overflow": null,
            "overflow_x": null,
            "overflow_y": null,
            "padding": null,
            "right": null,
            "top": null,
            "visibility": null,
            "width": null
          }
        },
        "7589817459114ff8a6e9fc5b08d08537": {
          "model_module": "@jupyter-widgets/controls",
          "model_name": "DescriptionStyleModel",
          "model_module_version": "1.5.0",
          "state": {
            "_model_module": "@jupyter-widgets/controls",
            "_model_module_version": "1.5.0",
            "_model_name": "DescriptionStyleModel",
            "_view_count": null,
            "_view_module": "@jupyter-widgets/base",
            "_view_module_version": "1.2.0",
            "_view_name": "StyleView",
            "description_width": ""
          }
        },
        "b9d553b285da4b20bbb3b5d11b120b9d": {
          "model_module": "@jupyter-widgets/base",
          "model_name": "LayoutModel",
          "model_module_version": "1.2.0",
          "state": {
            "_model_module": "@jupyter-widgets/base",
            "_model_module_version": "1.2.0",
            "_model_name": "LayoutModel",
            "_view_count": null,
            "_view_module": "@jupyter-widgets/base",
            "_view_module_version": "1.2.0",
            "_view_name": "LayoutView",
            "align_content": null,
            "align_items": null,
            "align_self": null,
            "border": null,
            "bottom": null,
            "display": null,
            "flex": null,
            "flex_flow": null,
            "grid_area": null,
            "grid_auto_columns": null,
            "grid_auto_flow": null,
            "grid_auto_rows": null,
            "grid_column": null,
            "grid_gap": null,
            "grid_row": null,
            "grid_template_areas": null,
            "grid_template_columns": null,
            "grid_template_rows": null,
            "height": null,
            "justify_content": null,
            "justify_items": null,
            "left": null,
            "margin": null,
            "max_height": null,
            "max_width": null,
            "min_height": null,
            "min_width": null,
            "object_fit": null,
            "object_position": null,
            "order": null,
            "overflow": null,
            "overflow_x": null,
            "overflow_y": null,
            "padding": null,
            "right": null,
            "top": null,
            "visibility": null,
            "width": "20px"
          }
        },
        "62a48af2c21e4080b5218cfdd8930707": {
          "model_module": "@jupyter-widgets/controls",
          "model_name": "ProgressStyleModel",
          "model_module_version": "1.5.0",
          "state": {
            "_model_module": "@jupyter-widgets/controls",
            "_model_module_version": "1.5.0",
            "_model_name": "ProgressStyleModel",
            "_view_count": null,
            "_view_module": "@jupyter-widgets/base",
            "_view_module_version": "1.2.0",
            "_view_name": "StyleView",
            "bar_color": null,
            "description_width": ""
          }
        },
        "d927d3861e0747989abd9545c426d79b": {
          "model_module": "@jupyter-widgets/base",
          "model_name": "LayoutModel",
          "model_module_version": "1.2.0",
          "state": {
            "_model_module": "@jupyter-widgets/base",
            "_model_module_version": "1.2.0",
            "_model_name": "LayoutModel",
            "_view_count": null,
            "_view_module": "@jupyter-widgets/base",
            "_view_module_version": "1.2.0",
            "_view_name": "LayoutView",
            "align_content": null,
            "align_items": null,
            "align_self": null,
            "border": null,
            "bottom": null,
            "display": null,
            "flex": null,
            "flex_flow": null,
            "grid_area": null,
            "grid_auto_columns": null,
            "grid_auto_flow": null,
            "grid_auto_rows": null,
            "grid_column": null,
            "grid_gap": null,
            "grid_row": null,
            "grid_template_areas": null,
            "grid_template_columns": null,
            "grid_template_rows": null,
            "height": null,
            "justify_content": null,
            "justify_items": null,
            "left": null,
            "margin": null,
            "max_height": null,
            "max_width": null,
            "min_height": null,
            "min_width": null,
            "object_fit": null,
            "object_position": null,
            "order": null,
            "overflow": null,
            "overflow_x": null,
            "overflow_y": null,
            "padding": null,
            "right": null,
            "top": null,
            "visibility": null,
            "width": null
          }
        },
        "9ea3eaf5216444f5baed77973a1cc604": {
          "model_module": "@jupyter-widgets/controls",
          "model_name": "DescriptionStyleModel",
          "model_module_version": "1.5.0",
          "state": {
            "_model_module": "@jupyter-widgets/controls",
            "_model_module_version": "1.5.0",
            "_model_name": "DescriptionStyleModel",
            "_view_count": null,
            "_view_module": "@jupyter-widgets/base",
            "_view_module_version": "1.2.0",
            "_view_name": "StyleView",
            "description_width": ""
          }
        },
        "0aee05c7f45e47669c17be86b96f22cf": {
          "model_module": "@jupyter-widgets/controls",
          "model_name": "HBoxModel",
          "model_module_version": "1.5.0",
          "state": {
            "_dom_classes": [],
            "_model_module": "@jupyter-widgets/controls",
            "_model_module_version": "1.5.0",
            "_model_name": "HBoxModel",
            "_view_count": null,
            "_view_module": "@jupyter-widgets/controls",
            "_view_module_version": "1.5.0",
            "_view_name": "HBoxView",
            "box_style": "",
            "children": [
              "IPY_MODEL_e6ad828101ef4b5eba61fa5dd7384241",
              "IPY_MODEL_fa280c88f5764f95afc583661b9de0a1",
              "IPY_MODEL_348b07cc5c904cf6bfb2ccb73e17d00b"
            ],
            "layout": "IPY_MODEL_fde4efdb877341f8b46181b1e388c841"
          }
        },
        "e6ad828101ef4b5eba61fa5dd7384241": {
          "model_module": "@jupyter-widgets/controls",
          "model_name": "HTMLModel",
          "model_module_version": "1.5.0",
          "state": {
            "_dom_classes": [],
            "_model_module": "@jupyter-widgets/controls",
            "_model_module_version": "1.5.0",
            "_model_name": "HTMLModel",
            "_view_count": null,
            "_view_module": "@jupyter-widgets/controls",
            "_view_module_version": "1.5.0",
            "_view_name": "HTMLView",
            "description": "",
            "description_tooltip": null,
            "layout": "IPY_MODEL_806f89d7500840c69a94e4aafd26d7ff",
            "placeholder": "​",
            "style": "IPY_MODEL_87bc091bdfa04e74b7ac0c5a90c77599",
            "value": ""
          }
        },
        "fa280c88f5764f95afc583661b9de0a1": {
          "model_module": "@jupyter-widgets/controls",
          "model_name": "FloatProgressModel",
          "model_module_version": "1.5.0",
          "state": {
            "_dom_classes": [],
            "_model_module": "@jupyter-widgets/controls",
            "_model_module_version": "1.5.0",
            "_model_name": "FloatProgressModel",
            "_view_count": null,
            "_view_module": "@jupyter-widgets/controls",
            "_view_module_version": "1.5.0",
            "_view_name": "ProgressView",
            "bar_style": "info",
            "description": "",
            "description_tooltip": null,
            "layout": "IPY_MODEL_ddc6d7d86faf43378ba44af38b393476",
            "max": 1,
            "min": 0,
            "orientation": "horizontal",
            "style": "IPY_MODEL_b2c9e000af16443498d187cd08e4f388",
            "value": 1
          }
        },
        "348b07cc5c904cf6bfb2ccb73e17d00b": {
          "model_module": "@jupyter-widgets/controls",
          "model_name": "HTMLModel",
          "model_module_version": "1.5.0",
          "state": {
            "_dom_classes": [],
            "_model_module": "@jupyter-widgets/controls",
            "_model_module_version": "1.5.0",
            "_model_name": "HTMLModel",
            "_view_count": null,
            "_view_module": "@jupyter-widgets/controls",
            "_view_module_version": "1.5.0",
            "_view_name": "HTMLView",
            "description": "",
            "description_tooltip": null,
            "layout": "IPY_MODEL_3c43daec3f1648039b0b6ae27d22bc59",
            "placeholder": "​",
            "style": "IPY_MODEL_e7b1b77050ae48c79487855804b83d6d",
            "value": " 119790/0 [00:43&lt;00:00, 3215.86 examples/s]"
          }
        },
        "fde4efdb877341f8b46181b1e388c841": {
          "model_module": "@jupyter-widgets/base",
          "model_name": "LayoutModel",
          "model_module_version": "1.2.0",
          "state": {
            "_model_module": "@jupyter-widgets/base",
            "_model_module_version": "1.2.0",
            "_model_name": "LayoutModel",
            "_view_count": null,
            "_view_module": "@jupyter-widgets/base",
            "_view_module_version": "1.2.0",
            "_view_name": "LayoutView",
            "align_content": null,
            "align_items": null,
            "align_self": null,
            "border": null,
            "bottom": null,
            "display": null,
            "flex": null,
            "flex_flow": null,
            "grid_area": null,
            "grid_auto_columns": null,
            "grid_auto_flow": null,
            "grid_auto_rows": null,
            "grid_column": null,
            "grid_gap": null,
            "grid_row": null,
            "grid_template_areas": null,
            "grid_template_columns": null,
            "grid_template_rows": null,
            "height": null,
            "justify_content": null,
            "justify_items": null,
            "left": null,
            "margin": null,
            "max_height": null,
            "max_width": null,
            "min_height": null,
            "min_width": null,
            "object_fit": null,
            "object_position": null,
            "order": null,
            "overflow": null,
            "overflow_x": null,
            "overflow_y": null,
            "padding": null,
            "right": null,
            "top": null,
            "visibility": null,
            "width": null
          }
        },
        "806f89d7500840c69a94e4aafd26d7ff": {
          "model_module": "@jupyter-widgets/base",
          "model_name": "LayoutModel",
          "model_module_version": "1.2.0",
          "state": {
            "_model_module": "@jupyter-widgets/base",
            "_model_module_version": "1.2.0",
            "_model_name": "LayoutModel",
            "_view_count": null,
            "_view_module": "@jupyter-widgets/base",
            "_view_module_version": "1.2.0",
            "_view_name": "LayoutView",
            "align_content": null,
            "align_items": null,
            "align_self": null,
            "border": null,
            "bottom": null,
            "display": null,
            "flex": null,
            "flex_flow": null,
            "grid_area": null,
            "grid_auto_columns": null,
            "grid_auto_flow": null,
            "grid_auto_rows": null,
            "grid_column": null,
            "grid_gap": null,
            "grid_row": null,
            "grid_template_areas": null,
            "grid_template_columns": null,
            "grid_template_rows": null,
            "height": null,
            "justify_content": null,
            "justify_items": null,
            "left": null,
            "margin": null,
            "max_height": null,
            "max_width": null,
            "min_height": null,
            "min_width": null,
            "object_fit": null,
            "object_position": null,
            "order": null,
            "overflow": null,
            "overflow_x": null,
            "overflow_y": null,
            "padding": null,
            "right": null,
            "top": null,
            "visibility": null,
            "width": null
          }
        },
        "87bc091bdfa04e74b7ac0c5a90c77599": {
          "model_module": "@jupyter-widgets/controls",
          "model_name": "DescriptionStyleModel",
          "model_module_version": "1.5.0",
          "state": {
            "_model_module": "@jupyter-widgets/controls",
            "_model_module_version": "1.5.0",
            "_model_name": "DescriptionStyleModel",
            "_view_count": null,
            "_view_module": "@jupyter-widgets/base",
            "_view_module_version": "1.2.0",
            "_view_name": "StyleView",
            "description_width": ""
          }
        },
        "ddc6d7d86faf43378ba44af38b393476": {
          "model_module": "@jupyter-widgets/base",
          "model_name": "LayoutModel",
          "model_module_version": "1.2.0",
          "state": {
            "_model_module": "@jupyter-widgets/base",
            "_model_module_version": "1.2.0",
            "_model_name": "LayoutModel",
            "_view_count": null,
            "_view_module": "@jupyter-widgets/base",
            "_view_module_version": "1.2.0",
            "_view_name": "LayoutView",
            "align_content": null,
            "align_items": null,
            "align_self": null,
            "border": null,
            "bottom": null,
            "display": null,
            "flex": null,
            "flex_flow": null,
            "grid_area": null,
            "grid_auto_columns": null,
            "grid_auto_flow": null,
            "grid_auto_rows": null,
            "grid_column": null,
            "grid_gap": null,
            "grid_row": null,
            "grid_template_areas": null,
            "grid_template_columns": null,
            "grid_template_rows": null,
            "height": null,
            "justify_content": null,
            "justify_items": null,
            "left": null,
            "margin": null,
            "max_height": null,
            "max_width": null,
            "min_height": null,
            "min_width": null,
            "object_fit": null,
            "object_position": null,
            "order": null,
            "overflow": null,
            "overflow_x": null,
            "overflow_y": null,
            "padding": null,
            "right": null,
            "top": null,
            "visibility": null,
            "width": "20px"
          }
        },
        "b2c9e000af16443498d187cd08e4f388": {
          "model_module": "@jupyter-widgets/controls",
          "model_name": "ProgressStyleModel",
          "model_module_version": "1.5.0",
          "state": {
            "_model_module": "@jupyter-widgets/controls",
            "_model_module_version": "1.5.0",
            "_model_name": "ProgressStyleModel",
            "_view_count": null,
            "_view_module": "@jupyter-widgets/base",
            "_view_module_version": "1.2.0",
            "_view_name": "StyleView",
            "bar_color": null,
            "description_width": ""
          }
        },
        "3c43daec3f1648039b0b6ae27d22bc59": {
          "model_module": "@jupyter-widgets/base",
          "model_name": "LayoutModel",
          "model_module_version": "1.2.0",
          "state": {
            "_model_module": "@jupyter-widgets/base",
            "_model_module_version": "1.2.0",
            "_model_name": "LayoutModel",
            "_view_count": null,
            "_view_module": "@jupyter-widgets/base",
            "_view_module_version": "1.2.0",
            "_view_name": "LayoutView",
            "align_content": null,
            "align_items": null,
            "align_self": null,
            "border": null,
            "bottom": null,
            "display": null,
            "flex": null,
            "flex_flow": null,
            "grid_area": null,
            "grid_auto_columns": null,
            "grid_auto_flow": null,
            "grid_auto_rows": null,
            "grid_column": null,
            "grid_gap": null,
            "grid_row": null,
            "grid_template_areas": null,
            "grid_template_columns": null,
            "grid_template_rows": null,
            "height": null,
            "justify_content": null,
            "justify_items": null,
            "left": null,
            "margin": null,
            "max_height": null,
            "max_width": null,
            "min_height": null,
            "min_width": null,
            "object_fit": null,
            "object_position": null,
            "order": null,
            "overflow": null,
            "overflow_x": null,
            "overflow_y": null,
            "padding": null,
            "right": null,
            "top": null,
            "visibility": null,
            "width": null
          }
        },
        "e7b1b77050ae48c79487855804b83d6d": {
          "model_module": "@jupyter-widgets/controls",
          "model_name": "DescriptionStyleModel",
          "model_module_version": "1.5.0",
          "state": {
            "_model_module": "@jupyter-widgets/controls",
            "_model_module_version": "1.5.0",
            "_model_name": "DescriptionStyleModel",
            "_view_count": null,
            "_view_module": "@jupyter-widgets/base",
            "_view_module_version": "1.2.0",
            "_view_name": "StyleView",
            "description_width": ""
          }
        },
        "b64a2d7adc1644fbb8f47b36b4bbdac9": {
          "model_module": "@jupyter-widgets/controls",
          "model_name": "HBoxModel",
          "model_module_version": "1.5.0",
          "state": {
            "_dom_classes": [],
            "_model_module": "@jupyter-widgets/controls",
            "_model_module_version": "1.5.0",
            "_model_name": "HBoxModel",
            "_view_count": null,
            "_view_module": "@jupyter-widgets/controls",
            "_view_module_version": "1.5.0",
            "_view_name": "HBoxView",
            "box_style": "",
            "children": [
              "IPY_MODEL_3332f76e8ec84a11a7d6a6df2505cbfe",
              "IPY_MODEL_876aaa315ecd432a89fafcf39d66dac9",
              "IPY_MODEL_b1dcc38f4464486ca6763d9c30530fcd"
            ],
            "layout": "IPY_MODEL_3ca1e318b3dc43b3b1b749e12f84919a"
          }
        },
        "3332f76e8ec84a11a7d6a6df2505cbfe": {
          "model_module": "@jupyter-widgets/controls",
          "model_name": "HTMLModel",
          "model_module_version": "1.5.0",
          "state": {
            "_dom_classes": [],
            "_model_module": "@jupyter-widgets/controls",
            "_model_module_version": "1.5.0",
            "_model_name": "HTMLModel",
            "_view_count": null,
            "_view_module": "@jupyter-widgets/controls",
            "_view_module_version": "1.5.0",
            "_view_name": "HTMLView",
            "description": "",
            "description_tooltip": null,
            "layout": "IPY_MODEL_269757cd5b794cceabeb79f219f442f1",
            "placeholder": "​",
            "style": "IPY_MODEL_e9b74b2a5d1d48a6bbf8e1a76989f50f",
            "value": "100%"
          }
        },
        "876aaa315ecd432a89fafcf39d66dac9": {
          "model_module": "@jupyter-widgets/controls",
          "model_name": "FloatProgressModel",
          "model_module_version": "1.5.0",
          "state": {
            "_dom_classes": [],
            "_model_module": "@jupyter-widgets/controls",
            "_model_module_version": "1.5.0",
            "_model_name": "FloatProgressModel",
            "_view_count": null,
            "_view_module": "@jupyter-widgets/controls",
            "_view_module_version": "1.5.0",
            "_view_name": "ProgressView",
            "bar_style": "danger",
            "description": "",
            "description_tooltip": null,
            "layout": "IPY_MODEL_618e59b3171343469ab44fd0e8c6f0b4",
            "max": 120000,
            "min": 0,
            "orientation": "horizontal",
            "style": "IPY_MODEL_63b4f6e21bfd4c4ab9dedbaf2ae381e8",
            "value": 119999
          }
        },
        "b1dcc38f4464486ca6763d9c30530fcd": {
          "model_module": "@jupyter-widgets/controls",
          "model_name": "HTMLModel",
          "model_module_version": "1.5.0",
          "state": {
            "_dom_classes": [],
            "_model_module": "@jupyter-widgets/controls",
            "_model_module_version": "1.5.0",
            "_model_name": "HTMLModel",
            "_view_count": null,
            "_view_module": "@jupyter-widgets/controls",
            "_view_module_version": "1.5.0",
            "_view_name": "HTMLView",
            "description": "",
            "description_tooltip": null,
            "layout": "IPY_MODEL_f3713b2ab7114bbd94de7dc976db54e8",
            "placeholder": "​",
            "style": "IPY_MODEL_e8594655fae148a5954c971497091805",
            "value": " 119999/120000 [00:00&lt;00:00, 253361.41 examples/s]"
          }
        },
        "3ca1e318b3dc43b3b1b749e12f84919a": {
          "model_module": "@jupyter-widgets/base",
          "model_name": "LayoutModel",
          "model_module_version": "1.2.0",
          "state": {
            "_model_module": "@jupyter-widgets/base",
            "_model_module_version": "1.2.0",
            "_model_name": "LayoutModel",
            "_view_count": null,
            "_view_module": "@jupyter-widgets/base",
            "_view_module_version": "1.2.0",
            "_view_name": "LayoutView",
            "align_content": null,
            "align_items": null,
            "align_self": null,
            "border": null,
            "bottom": null,
            "display": null,
            "flex": null,
            "flex_flow": null,
            "grid_area": null,
            "grid_auto_columns": null,
            "grid_auto_flow": null,
            "grid_auto_rows": null,
            "grid_column": null,
            "grid_gap": null,
            "grid_row": null,
            "grid_template_areas": null,
            "grid_template_columns": null,
            "grid_template_rows": null,
            "height": null,
            "justify_content": null,
            "justify_items": null,
            "left": null,
            "margin": null,
            "max_height": null,
            "max_width": null,
            "min_height": null,
            "min_width": null,
            "object_fit": null,
            "object_position": null,
            "order": null,
            "overflow": null,
            "overflow_x": null,
            "overflow_y": null,
            "padding": null,
            "right": null,
            "top": null,
            "visibility": null,
            "width": null
          }
        },
        "269757cd5b794cceabeb79f219f442f1": {
          "model_module": "@jupyter-widgets/base",
          "model_name": "LayoutModel",
          "model_module_version": "1.2.0",
          "state": {
            "_model_module": "@jupyter-widgets/base",
            "_model_module_version": "1.2.0",
            "_model_name": "LayoutModel",
            "_view_count": null,
            "_view_module": "@jupyter-widgets/base",
            "_view_module_version": "1.2.0",
            "_view_name": "LayoutView",
            "align_content": null,
            "align_items": null,
            "align_self": null,
            "border": null,
            "bottom": null,
            "display": null,
            "flex": null,
            "flex_flow": null,
            "grid_area": null,
            "grid_auto_columns": null,
            "grid_auto_flow": null,
            "grid_auto_rows": null,
            "grid_column": null,
            "grid_gap": null,
            "grid_row": null,
            "grid_template_areas": null,
            "grid_template_columns": null,
            "grid_template_rows": null,
            "height": null,
            "justify_content": null,
            "justify_items": null,
            "left": null,
            "margin": null,
            "max_height": null,
            "max_width": null,
            "min_height": null,
            "min_width": null,
            "object_fit": null,
            "object_position": null,
            "order": null,
            "overflow": null,
            "overflow_x": null,
            "overflow_y": null,
            "padding": null,
            "right": null,
            "top": null,
            "visibility": null,
            "width": null
          }
        },
        "e9b74b2a5d1d48a6bbf8e1a76989f50f": {
          "model_module": "@jupyter-widgets/controls",
          "model_name": "DescriptionStyleModel",
          "model_module_version": "1.5.0",
          "state": {
            "_model_module": "@jupyter-widgets/controls",
            "_model_module_version": "1.5.0",
            "_model_name": "DescriptionStyleModel",
            "_view_count": null,
            "_view_module": "@jupyter-widgets/base",
            "_view_module_version": "1.2.0",
            "_view_name": "StyleView",
            "description_width": ""
          }
        },
        "618e59b3171343469ab44fd0e8c6f0b4": {
          "model_module": "@jupyter-widgets/base",
          "model_name": "LayoutModel",
          "model_module_version": "1.2.0",
          "state": {
            "_model_module": "@jupyter-widgets/base",
            "_model_module_version": "1.2.0",
            "_model_name": "LayoutModel",
            "_view_count": null,
            "_view_module": "@jupyter-widgets/base",
            "_view_module_version": "1.2.0",
            "_view_name": "LayoutView",
            "align_content": null,
            "align_items": null,
            "align_self": null,
            "border": null,
            "bottom": null,
            "display": null,
            "flex": null,
            "flex_flow": null,
            "grid_area": null,
            "grid_auto_columns": null,
            "grid_auto_flow": null,
            "grid_auto_rows": null,
            "grid_column": null,
            "grid_gap": null,
            "grid_row": null,
            "grid_template_areas": null,
            "grid_template_columns": null,
            "grid_template_rows": null,
            "height": null,
            "justify_content": null,
            "justify_items": null,
            "left": null,
            "margin": null,
            "max_height": null,
            "max_width": null,
            "min_height": null,
            "min_width": null,
            "object_fit": null,
            "object_position": null,
            "order": null,
            "overflow": null,
            "overflow_x": null,
            "overflow_y": null,
            "padding": null,
            "right": null,
            "top": null,
            "visibility": null,
            "width": null
          }
        },
        "63b4f6e21bfd4c4ab9dedbaf2ae381e8": {
          "model_module": "@jupyter-widgets/controls",
          "model_name": "ProgressStyleModel",
          "model_module_version": "1.5.0",
          "state": {
            "_model_module": "@jupyter-widgets/controls",
            "_model_module_version": "1.5.0",
            "_model_name": "ProgressStyleModel",
            "_view_count": null,
            "_view_module": "@jupyter-widgets/base",
            "_view_module_version": "1.2.0",
            "_view_name": "StyleView",
            "bar_color": null,
            "description_width": ""
          }
        },
        "f3713b2ab7114bbd94de7dc976db54e8": {
          "model_module": "@jupyter-widgets/base",
          "model_name": "LayoutModel",
          "model_module_version": "1.2.0",
          "state": {
            "_model_module": "@jupyter-widgets/base",
            "_model_module_version": "1.2.0",
            "_model_name": "LayoutModel",
            "_view_count": null,
            "_view_module": "@jupyter-widgets/base",
            "_view_module_version": "1.2.0",
            "_view_name": "LayoutView",
            "align_content": null,
            "align_items": null,
            "align_self": null,
            "border": null,
            "bottom": null,
            "display": null,
            "flex": null,
            "flex_flow": null,
            "grid_area": null,
            "grid_auto_columns": null,
            "grid_auto_flow": null,
            "grid_auto_rows": null,
            "grid_column": null,
            "grid_gap": null,
            "grid_row": null,
            "grid_template_areas": null,
            "grid_template_columns": null,
            "grid_template_rows": null,
            "height": null,
            "justify_content": null,
            "justify_items": null,
            "left": null,
            "margin": null,
            "max_height": null,
            "max_width": null,
            "min_height": null,
            "min_width": null,
            "object_fit": null,
            "object_position": null,
            "order": null,
            "overflow": null,
            "overflow_x": null,
            "overflow_y": null,
            "padding": null,
            "right": null,
            "top": null,
            "visibility": null,
            "width": null
          }
        },
        "e8594655fae148a5954c971497091805": {
          "model_module": "@jupyter-widgets/controls",
          "model_name": "DescriptionStyleModel",
          "model_module_version": "1.5.0",
          "state": {
            "_model_module": "@jupyter-widgets/controls",
            "_model_module_version": "1.5.0",
            "_model_name": "DescriptionStyleModel",
            "_view_count": null,
            "_view_module": "@jupyter-widgets/base",
            "_view_module_version": "1.2.0",
            "_view_name": "StyleView",
            "description_width": ""
          }
        },
        "0f6b94709d6e4adcb44e290d5cbbb466": {
          "model_module": "@jupyter-widgets/controls",
          "model_name": "HBoxModel",
          "model_module_version": "1.5.0",
          "state": {
            "_dom_classes": [],
            "_model_module": "@jupyter-widgets/controls",
            "_model_module_version": "1.5.0",
            "_model_name": "HBoxModel",
            "_view_count": null,
            "_view_module": "@jupyter-widgets/controls",
            "_view_module_version": "1.5.0",
            "_view_name": "HBoxView",
            "box_style": "",
            "children": [
              "IPY_MODEL_58303aef8563487ba979f1bb40f69753",
              "IPY_MODEL_7e0c97b280bf4305b0bc0bc1dd33f398",
              "IPY_MODEL_720ba3e265a04975ab223255482a9d4e"
            ],
            "layout": "IPY_MODEL_1469c63730de44b68d3077b9c0f4e2ea"
          }
        },
        "58303aef8563487ba979f1bb40f69753": {
          "model_module": "@jupyter-widgets/controls",
          "model_name": "HTMLModel",
          "model_module_version": "1.5.0",
          "state": {
            "_dom_classes": [],
            "_model_module": "@jupyter-widgets/controls",
            "_model_module_version": "1.5.0",
            "_model_name": "HTMLModel",
            "_view_count": null,
            "_view_module": "@jupyter-widgets/controls",
            "_view_module_version": "1.5.0",
            "_view_name": "HTMLView",
            "description": "",
            "description_tooltip": null,
            "layout": "IPY_MODEL_cfc2711db2e2453393877f3fdc49fa99",
            "placeholder": "​",
            "style": "IPY_MODEL_da9fef6dfd2046888ef2923184c9283a",
            "value": ""
          }
        },
        "7e0c97b280bf4305b0bc0bc1dd33f398": {
          "model_module": "@jupyter-widgets/controls",
          "model_name": "FloatProgressModel",
          "model_module_version": "1.5.0",
          "state": {
            "_dom_classes": [],
            "_model_module": "@jupyter-widgets/controls",
            "_model_module_version": "1.5.0",
            "_model_name": "FloatProgressModel",
            "_view_count": null,
            "_view_module": "@jupyter-widgets/controls",
            "_view_module_version": "1.5.0",
            "_view_name": "ProgressView",
            "bar_style": "info",
            "description": "",
            "description_tooltip": null,
            "layout": "IPY_MODEL_fc470cc9306a4d33a6800faee6e5a27b",
            "max": 1,
            "min": 0,
            "orientation": "horizontal",
            "style": "IPY_MODEL_31bf4c02959b4a7fad095d6e75e71a74",
            "value": 1
          }
        },
        "720ba3e265a04975ab223255482a9d4e": {
          "model_module": "@jupyter-widgets/controls",
          "model_name": "HTMLModel",
          "model_module_version": "1.5.0",
          "state": {
            "_dom_classes": [],
            "_model_module": "@jupyter-widgets/controls",
            "_model_module_version": "1.5.0",
            "_model_name": "HTMLModel",
            "_view_count": null,
            "_view_module": "@jupyter-widgets/controls",
            "_view_module_version": "1.5.0",
            "_view_name": "HTMLView",
            "description": "",
            "description_tooltip": null,
            "layout": "IPY_MODEL_4a87094976284383abd0074ea1a71a4d",
            "placeholder": "​",
            "style": "IPY_MODEL_f925794e9d9b419cbab91ea8cc43a825",
            "value": " 7297/0 [00:02&lt;00:00, 3882.56 examples/s]"
          }
        },
        "1469c63730de44b68d3077b9c0f4e2ea": {
          "model_module": "@jupyter-widgets/base",
          "model_name": "LayoutModel",
          "model_module_version": "1.2.0",
          "state": {
            "_model_module": "@jupyter-widgets/base",
            "_model_module_version": "1.2.0",
            "_model_name": "LayoutModel",
            "_view_count": null,
            "_view_module": "@jupyter-widgets/base",
            "_view_module_version": "1.2.0",
            "_view_name": "LayoutView",
            "align_content": null,
            "align_items": null,
            "align_self": null,
            "border": null,
            "bottom": null,
            "display": null,
            "flex": null,
            "flex_flow": null,
            "grid_area": null,
            "grid_auto_columns": null,
            "grid_auto_flow": null,
            "grid_auto_rows": null,
            "grid_column": null,
            "grid_gap": null,
            "grid_row": null,
            "grid_template_areas": null,
            "grid_template_columns": null,
            "grid_template_rows": null,
            "height": null,
            "justify_content": null,
            "justify_items": null,
            "left": null,
            "margin": null,
            "max_height": null,
            "max_width": null,
            "min_height": null,
            "min_width": null,
            "object_fit": null,
            "object_position": null,
            "order": null,
            "overflow": null,
            "overflow_x": null,
            "overflow_y": null,
            "padding": null,
            "right": null,
            "top": null,
            "visibility": null,
            "width": null
          }
        },
        "cfc2711db2e2453393877f3fdc49fa99": {
          "model_module": "@jupyter-widgets/base",
          "model_name": "LayoutModel",
          "model_module_version": "1.2.0",
          "state": {
            "_model_module": "@jupyter-widgets/base",
            "_model_module_version": "1.2.0",
            "_model_name": "LayoutModel",
            "_view_count": null,
            "_view_module": "@jupyter-widgets/base",
            "_view_module_version": "1.2.0",
            "_view_name": "LayoutView",
            "align_content": null,
            "align_items": null,
            "align_self": null,
            "border": null,
            "bottom": null,
            "display": null,
            "flex": null,
            "flex_flow": null,
            "grid_area": null,
            "grid_auto_columns": null,
            "grid_auto_flow": null,
            "grid_auto_rows": null,
            "grid_column": null,
            "grid_gap": null,
            "grid_row": null,
            "grid_template_areas": null,
            "grid_template_columns": null,
            "grid_template_rows": null,
            "height": null,
            "justify_content": null,
            "justify_items": null,
            "left": null,
            "margin": null,
            "max_height": null,
            "max_width": null,
            "min_height": null,
            "min_width": null,
            "object_fit": null,
            "object_position": null,
            "order": null,
            "overflow": null,
            "overflow_x": null,
            "overflow_y": null,
            "padding": null,
            "right": null,
            "top": null,
            "visibility": null,
            "width": null
          }
        },
        "da9fef6dfd2046888ef2923184c9283a": {
          "model_module": "@jupyter-widgets/controls",
          "model_name": "DescriptionStyleModel",
          "model_module_version": "1.5.0",
          "state": {
            "_model_module": "@jupyter-widgets/controls",
            "_model_module_version": "1.5.0",
            "_model_name": "DescriptionStyleModel",
            "_view_count": null,
            "_view_module": "@jupyter-widgets/base",
            "_view_module_version": "1.2.0",
            "_view_name": "StyleView",
            "description_width": ""
          }
        },
        "fc470cc9306a4d33a6800faee6e5a27b": {
          "model_module": "@jupyter-widgets/base",
          "model_name": "LayoutModel",
          "model_module_version": "1.2.0",
          "state": {
            "_model_module": "@jupyter-widgets/base",
            "_model_module_version": "1.2.0",
            "_model_name": "LayoutModel",
            "_view_count": null,
            "_view_module": "@jupyter-widgets/base",
            "_view_module_version": "1.2.0",
            "_view_name": "LayoutView",
            "align_content": null,
            "align_items": null,
            "align_self": null,
            "border": null,
            "bottom": null,
            "display": null,
            "flex": null,
            "flex_flow": null,
            "grid_area": null,
            "grid_auto_columns": null,
            "grid_auto_flow": null,
            "grid_auto_rows": null,
            "grid_column": null,
            "grid_gap": null,
            "grid_row": null,
            "grid_template_areas": null,
            "grid_template_columns": null,
            "grid_template_rows": null,
            "height": null,
            "justify_content": null,
            "justify_items": null,
            "left": null,
            "margin": null,
            "max_height": null,
            "max_width": null,
            "min_height": null,
            "min_width": null,
            "object_fit": null,
            "object_position": null,
            "order": null,
            "overflow": null,
            "overflow_x": null,
            "overflow_y": null,
            "padding": null,
            "right": null,
            "top": null,
            "visibility": null,
            "width": "20px"
          }
        },
        "31bf4c02959b4a7fad095d6e75e71a74": {
          "model_module": "@jupyter-widgets/controls",
          "model_name": "ProgressStyleModel",
          "model_module_version": "1.5.0",
          "state": {
            "_model_module": "@jupyter-widgets/controls",
            "_model_module_version": "1.5.0",
            "_model_name": "ProgressStyleModel",
            "_view_count": null,
            "_view_module": "@jupyter-widgets/base",
            "_view_module_version": "1.2.0",
            "_view_name": "StyleView",
            "bar_color": null,
            "description_width": ""
          }
        },
        "4a87094976284383abd0074ea1a71a4d": {
          "model_module": "@jupyter-widgets/base",
          "model_name": "LayoutModel",
          "model_module_version": "1.2.0",
          "state": {
            "_model_module": "@jupyter-widgets/base",
            "_model_module_version": "1.2.0",
            "_model_name": "LayoutModel",
            "_view_count": null,
            "_view_module": "@jupyter-widgets/base",
            "_view_module_version": "1.2.0",
            "_view_name": "LayoutView",
            "align_content": null,
            "align_items": null,
            "align_self": null,
            "border": null,
            "bottom": null,
            "display": null,
            "flex": null,
            "flex_flow": null,
            "grid_area": null,
            "grid_auto_columns": null,
            "grid_auto_flow": null,
            "grid_auto_rows": null,
            "grid_column": null,
            "grid_gap": null,
            "grid_row": null,
            "grid_template_areas": null,
            "grid_template_columns": null,
            "grid_template_rows": null,
            "height": null,
            "justify_content": null,
            "justify_items": null,
            "left": null,
            "margin": null,
            "max_height": null,
            "max_width": null,
            "min_height": null,
            "min_width": null,
            "object_fit": null,
            "object_position": null,
            "order": null,
            "overflow": null,
            "overflow_x": null,
            "overflow_y": null,
            "padding": null,
            "right": null,
            "top": null,
            "visibility": null,
            "width": null
          }
        },
        "f925794e9d9b419cbab91ea8cc43a825": {
          "model_module": "@jupyter-widgets/controls",
          "model_name": "DescriptionStyleModel",
          "model_module_version": "1.5.0",
          "state": {
            "_model_module": "@jupyter-widgets/controls",
            "_model_module_version": "1.5.0",
            "_model_name": "DescriptionStyleModel",
            "_view_count": null,
            "_view_module": "@jupyter-widgets/base",
            "_view_module_version": "1.2.0",
            "_view_name": "StyleView",
            "description_width": ""
          }
        },
        "1df2031c73eb4dfcb94f83d4e3f7e2b7": {
          "model_module": "@jupyter-widgets/controls",
          "model_name": "HBoxModel",
          "model_module_version": "1.5.0",
          "state": {
            "_dom_classes": [],
            "_model_module": "@jupyter-widgets/controls",
            "_model_module_version": "1.5.0",
            "_model_name": "HBoxModel",
            "_view_count": null,
            "_view_module": "@jupyter-widgets/controls",
            "_view_module_version": "1.5.0",
            "_view_name": "HBoxView",
            "box_style": "",
            "children": [
              "IPY_MODEL_7fa6c1f7a90e4524934b7587fa89cf17",
              "IPY_MODEL_2d80926867544452ad09e78a0ad5d616",
              "IPY_MODEL_65ab97ddc72f4c36a43f44a6c8e3ab36"
            ],
            "layout": "IPY_MODEL_777bbb8838354fc1a325d2dc2a28bf5b"
          }
        },
        "7fa6c1f7a90e4524934b7587fa89cf17": {
          "model_module": "@jupyter-widgets/controls",
          "model_name": "HTMLModel",
          "model_module_version": "1.5.0",
          "state": {
            "_dom_classes": [],
            "_model_module": "@jupyter-widgets/controls",
            "_model_module_version": "1.5.0",
            "_model_name": "HTMLModel",
            "_view_count": null,
            "_view_module": "@jupyter-widgets/controls",
            "_view_module_version": "1.5.0",
            "_view_name": "HTMLView",
            "description": "",
            "description_tooltip": null,
            "layout": "IPY_MODEL_ad0d826bc9e34f0996bc9de3016b6e12",
            "placeholder": "​",
            "style": "IPY_MODEL_3672fa280e8d4acfa15e9d88fb67cea4",
            "value": "100%"
          }
        },
        "2d80926867544452ad09e78a0ad5d616": {
          "model_module": "@jupyter-widgets/controls",
          "model_name": "FloatProgressModel",
          "model_module_version": "1.5.0",
          "state": {
            "_dom_classes": [],
            "_model_module": "@jupyter-widgets/controls",
            "_model_module_version": "1.5.0",
            "_model_name": "FloatProgressModel",
            "_view_count": null,
            "_view_module": "@jupyter-widgets/controls",
            "_view_module_version": "1.5.0",
            "_view_name": "ProgressView",
            "bar_style": "danger",
            "description": "",
            "description_tooltip": null,
            "layout": "IPY_MODEL_d29fcf0b364d49ca8c4ac9950fecd4b0",
            "max": 7600,
            "min": 0,
            "orientation": "horizontal",
            "style": "IPY_MODEL_34ab8f37654a49319cd095630a108742",
            "value": 7599
          }
        },
        "65ab97ddc72f4c36a43f44a6c8e3ab36": {
          "model_module": "@jupyter-widgets/controls",
          "model_name": "HTMLModel",
          "model_module_version": "1.5.0",
          "state": {
            "_dom_classes": [],
            "_model_module": "@jupyter-widgets/controls",
            "_model_module_version": "1.5.0",
            "_model_name": "HTMLModel",
            "_view_count": null,
            "_view_module": "@jupyter-widgets/controls",
            "_view_module_version": "1.5.0",
            "_view_name": "HTMLView",
            "description": "",
            "description_tooltip": null,
            "layout": "IPY_MODEL_257a687e1aad400486e5b3748f438601",
            "placeholder": "​",
            "style": "IPY_MODEL_a84543d6d2254d8c9514a41a7c57c913",
            "value": " 7599/7600 [00:00&lt;00:00, 87833.32 examples/s]"
          }
        },
        "777bbb8838354fc1a325d2dc2a28bf5b": {
          "model_module": "@jupyter-widgets/base",
          "model_name": "LayoutModel",
          "model_module_version": "1.2.0",
          "state": {
            "_model_module": "@jupyter-widgets/base",
            "_model_module_version": "1.2.0",
            "_model_name": "LayoutModel",
            "_view_count": null,
            "_view_module": "@jupyter-widgets/base",
            "_view_module_version": "1.2.0",
            "_view_name": "LayoutView",
            "align_content": null,
            "align_items": null,
            "align_self": null,
            "border": null,
            "bottom": null,
            "display": null,
            "flex": null,
            "flex_flow": null,
            "grid_area": null,
            "grid_auto_columns": null,
            "grid_auto_flow": null,
            "grid_auto_rows": null,
            "grid_column": null,
            "grid_gap": null,
            "grid_row": null,
            "grid_template_areas": null,
            "grid_template_columns": null,
            "grid_template_rows": null,
            "height": null,
            "justify_content": null,
            "justify_items": null,
            "left": null,
            "margin": null,
            "max_height": null,
            "max_width": null,
            "min_height": null,
            "min_width": null,
            "object_fit": null,
            "object_position": null,
            "order": null,
            "overflow": null,
            "overflow_x": null,
            "overflow_y": null,
            "padding": null,
            "right": null,
            "top": null,
            "visibility": null,
            "width": null
          }
        },
        "ad0d826bc9e34f0996bc9de3016b6e12": {
          "model_module": "@jupyter-widgets/base",
          "model_name": "LayoutModel",
          "model_module_version": "1.2.0",
          "state": {
            "_model_module": "@jupyter-widgets/base",
            "_model_module_version": "1.2.0",
            "_model_name": "LayoutModel",
            "_view_count": null,
            "_view_module": "@jupyter-widgets/base",
            "_view_module_version": "1.2.0",
            "_view_name": "LayoutView",
            "align_content": null,
            "align_items": null,
            "align_self": null,
            "border": null,
            "bottom": null,
            "display": null,
            "flex": null,
            "flex_flow": null,
            "grid_area": null,
            "grid_auto_columns": null,
            "grid_auto_flow": null,
            "grid_auto_rows": null,
            "grid_column": null,
            "grid_gap": null,
            "grid_row": null,
            "grid_template_areas": null,
            "grid_template_columns": null,
            "grid_template_rows": null,
            "height": null,
            "justify_content": null,
            "justify_items": null,
            "left": null,
            "margin": null,
            "max_height": null,
            "max_width": null,
            "min_height": null,
            "min_width": null,
            "object_fit": null,
            "object_position": null,
            "order": null,
            "overflow": null,
            "overflow_x": null,
            "overflow_y": null,
            "padding": null,
            "right": null,
            "top": null,
            "visibility": null,
            "width": null
          }
        },
        "3672fa280e8d4acfa15e9d88fb67cea4": {
          "model_module": "@jupyter-widgets/controls",
          "model_name": "DescriptionStyleModel",
          "model_module_version": "1.5.0",
          "state": {
            "_model_module": "@jupyter-widgets/controls",
            "_model_module_version": "1.5.0",
            "_model_name": "DescriptionStyleModel",
            "_view_count": null,
            "_view_module": "@jupyter-widgets/base",
            "_view_module_version": "1.2.0",
            "_view_name": "StyleView",
            "description_width": ""
          }
        },
        "d29fcf0b364d49ca8c4ac9950fecd4b0": {
          "model_module": "@jupyter-widgets/base",
          "model_name": "LayoutModel",
          "model_module_version": "1.2.0",
          "state": {
            "_model_module": "@jupyter-widgets/base",
            "_model_module_version": "1.2.0",
            "_model_name": "LayoutModel",
            "_view_count": null,
            "_view_module": "@jupyter-widgets/base",
            "_view_module_version": "1.2.0",
            "_view_name": "LayoutView",
            "align_content": null,
            "align_items": null,
            "align_self": null,
            "border": null,
            "bottom": null,
            "display": null,
            "flex": null,
            "flex_flow": null,
            "grid_area": null,
            "grid_auto_columns": null,
            "grid_auto_flow": null,
            "grid_auto_rows": null,
            "grid_column": null,
            "grid_gap": null,
            "grid_row": null,
            "grid_template_areas": null,
            "grid_template_columns": null,
            "grid_template_rows": null,
            "height": null,
            "justify_content": null,
            "justify_items": null,
            "left": null,
            "margin": null,
            "max_height": null,
            "max_width": null,
            "min_height": null,
            "min_width": null,
            "object_fit": null,
            "object_position": null,
            "order": null,
            "overflow": null,
            "overflow_x": null,
            "overflow_y": null,
            "padding": null,
            "right": null,
            "top": null,
            "visibility": null,
            "width": null
          }
        },
        "34ab8f37654a49319cd095630a108742": {
          "model_module": "@jupyter-widgets/controls",
          "model_name": "ProgressStyleModel",
          "model_module_version": "1.5.0",
          "state": {
            "_model_module": "@jupyter-widgets/controls",
            "_model_module_version": "1.5.0",
            "_model_name": "ProgressStyleModel",
            "_view_count": null,
            "_view_module": "@jupyter-widgets/base",
            "_view_module_version": "1.2.0",
            "_view_name": "StyleView",
            "bar_color": null,
            "description_width": ""
          }
        },
        "257a687e1aad400486e5b3748f438601": {
          "model_module": "@jupyter-widgets/base",
          "model_name": "LayoutModel",
          "model_module_version": "1.2.0",
          "state": {
            "_model_module": "@jupyter-widgets/base",
            "_model_module_version": "1.2.0",
            "_model_name": "LayoutModel",
            "_view_count": null,
            "_view_module": "@jupyter-widgets/base",
            "_view_module_version": "1.2.0",
            "_view_name": "LayoutView",
            "align_content": null,
            "align_items": null,
            "align_self": null,
            "border": null,
            "bottom": null,
            "display": null,
            "flex": null,
            "flex_flow": null,
            "grid_area": null,
            "grid_auto_columns": null,
            "grid_auto_flow": null,
            "grid_auto_rows": null,
            "grid_column": null,
            "grid_gap": null,
            "grid_row": null,
            "grid_template_areas": null,
            "grid_template_columns": null,
            "grid_template_rows": null,
            "height": null,
            "justify_content": null,
            "justify_items": null,
            "left": null,
            "margin": null,
            "max_height": null,
            "max_width": null,
            "min_height": null,
            "min_width": null,
            "object_fit": null,
            "object_position": null,
            "order": null,
            "overflow": null,
            "overflow_x": null,
            "overflow_y": null,
            "padding": null,
            "right": null,
            "top": null,
            "visibility": null,
            "width": null
          }
        },
        "a84543d6d2254d8c9514a41a7c57c913": {
          "model_module": "@jupyter-widgets/controls",
          "model_name": "DescriptionStyleModel",
          "model_module_version": "1.5.0",
          "state": {
            "_model_module": "@jupyter-widgets/controls",
            "_model_module_version": "1.5.0",
            "_model_name": "DescriptionStyleModel",
            "_view_count": null,
            "_view_module": "@jupyter-widgets/base",
            "_view_module_version": "1.2.0",
            "_view_name": "StyleView",
            "description_width": ""
          }
        }
      }
    }
  },
  "nbformat": 4,
  "nbformat_minor": 0
}